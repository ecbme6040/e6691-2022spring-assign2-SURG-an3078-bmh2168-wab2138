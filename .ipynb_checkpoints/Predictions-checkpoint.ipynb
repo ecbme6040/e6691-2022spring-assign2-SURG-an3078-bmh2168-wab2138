{
 "cells": [
  {
   "cell_type": "markdown",
   "id": "3b8ae78c",
   "metadata": {},
   "source": [
    "# Prediction from classifier"
   ]
  },
  {
   "cell_type": "code",
   "execution_count": 1,
   "id": "78d3149d",
   "metadata": {},
   "outputs": [],
   "source": [
    "from __future__ import print_function, division\n",
    "\n",
    "import torch\n",
    "import torch.nn as nn\n",
    "import torch.optim as optim\n",
    "from torch.optim import lr_scheduler\n",
    "import torch.backends.cudnn as cudnn\n",
    "import numpy as np\n",
    "import torchvision\n",
    "from torchvision import datasets, models, transforms\n",
    "import matplotlib.pyplot as plt\n",
    "import time\n",
    "import os\n",
    "import copy\n",
    "from torch.utils.data import DataLoader\n",
    "cudnn.benchmark = True\n",
    "plt.ion()   # interactive mode\n",
    "from utils.TestImagesDataset import TestImagesDataset\n",
    "from tqdm import tqdm\n",
    "CLASSES=14\n",
    "device = torch.device(\"cuda:0\" if torch.cuda.is_available() else  \"cpu\")"
   ]
  },
  {
   "cell_type": "code",
   "execution_count": 2,
   "id": "f6411156",
   "metadata": {},
   "outputs": [
    {
     "data": {
      "text/plain": [
       "184003"
      ]
     },
     "execution_count": 2,
     "metadata": {},
     "output_type": "execute_result"
    }
   ],
   "source": [
    "data_transforms = transforms.Compose([transforms.Normalize(mean=[0.485, 0.456, 0.406],std=[0.229, 0.224, 0.225])])\n",
    "\n",
    "test_set = TestImagesDataset(data_transforms)\n",
    "test_set.__len__()"
   ]
  },
  {
   "cell_type": "code",
   "execution_count": 3,
   "id": "a5b34431",
   "metadata": {},
   "outputs": [],
   "source": [
    "bs=128\n",
    "dataset_size = test_set.__len__()\n",
    "dataloader = DataLoader(dataset=test_set,\n",
    "                          batch_size=bs,\n",
    "                          shuffle=False,\n",
    "                          num_workers=4)"
   ]
  },
  {
   "cell_type": "code",
   "execution_count": null,
   "id": "41393505",
   "metadata": {},
   "outputs": [],
   "source": [
    "EFFICIENTNET=True\n",
    "model_ft=None\n",
    "\n",
    "if EFFICIENTNET:\n",
    "    model_ft = models.efficientnet_b0(pretrained=True)\n",
    "    model_ft.classifier[1] = nn.Linear(in_features=1280, out_features=CLASSES)\n",
    "    model_ft = model_ft.to(device)\n",
    "    #reloading saved weights\n",
    "    model_ft.load_state_dict(torch.load('./models/efficientnet_b0.pt'))\n",
    "    model_ft.eval()\n",
    "else: # RESNET\n",
    "    model_ft = models.resnet18(pretrained=True)\n",
    "    num_ftrs = model_ft.fc.in_features\n",
    "    model_ft.fc = nn.Linear(num_ftrs, CLASSES)\n",
    "    model_ft = model_ft.to(device)\n",
    "\n",
    "    #reloading saved weights\n",
    "    model_ft.load_state_dict(torch.load('./models/resnet18.pt'))\n",
    "    model_ft.eval()\n",
    "\n",
    "\n",
    "\n",
    "with torch.no_grad():\n",
    "    n_correct = 0\n",
    "    n_samples = 0\n",
    "    predictions=[]\n",
    "    with tqdm(test_loader, unit=\"batch\") as tepoch: \n",
    "        for images in tepoch:\n",
    "            tepoch.set_description(\"Predicting...\")\n",
    "            inputs = inputs.to(device)\n",
    "            labels = labels.to(device)\n",
    "            outputs = model(inputs)\n",
    "            _, preds = torch.max(outputs, 1)\n",
    "            print(preds.shape)\n",
    "            predictions.append(preds)\n"
   ]
  },
  {
   "cell_type": "code",
   "execution_count": 2,
   "id": "822ee5cb",
   "metadata": {},
   "outputs": [],
   "source": [
    "import pandas as pd\n",
    "df=pd.read_csv('./kaggle_template.csv')"
   ]
  },
  {
   "cell_type": "code",
   "execution_count": 14,
   "id": "424b733c",
   "metadata": {},
   "outputs": [
    {
     "data": {
      "text/html": [
       "<div>\n",
       "<style scoped>\n",
       "    .dataframe tbody tr th:only-of-type {\n",
       "        vertical-align: middle;\n",
       "    }\n",
       "\n",
       "    .dataframe tbody tr th {\n",
       "        vertical-align: top;\n",
       "    }\n",
       "\n",
       "    .dataframe thead th {\n",
       "        text-align: right;\n",
       "    }\n",
       "</style>\n",
       "<table border=\"1\" class=\"dataframe\">\n",
       "  <thead>\n",
       "    <tr style=\"text-align: right;\">\n",
       "      <th></th>\n",
       "      <th>Id</th>\n",
       "      <th>Predicted</th>\n",
       "    </tr>\n",
       "  </thead>\n",
       "  <tbody>\n",
       "    <tr>\n",
       "      <th>0</th>\n",
       "      <td>001-0071-00000</td>\n",
       "      <td>NaN</td>\n",
       "    </tr>\n",
       "    <tr>\n",
       "      <th>1</th>\n",
       "      <td>001-0071-00001</td>\n",
       "      <td>NaN</td>\n",
       "    </tr>\n",
       "    <tr>\n",
       "      <th>2</th>\n",
       "      <td>001-0071-00002</td>\n",
       "      <td>NaN</td>\n",
       "    </tr>\n",
       "    <tr>\n",
       "      <th>3</th>\n",
       "      <td>001-0071-00003</td>\n",
       "      <td>NaN</td>\n",
       "    </tr>\n",
       "    <tr>\n",
       "      <th>4</th>\n",
       "      <td>001-0071-00004</td>\n",
       "      <td>NaN</td>\n",
       "    </tr>\n",
       "    <tr>\n",
       "      <th>...</th>\n",
       "      <td>...</td>\n",
       "      <td>...</td>\n",
       "    </tr>\n",
       "    <tr>\n",
       "      <th>179923</th>\n",
       "      <td>003-0001-05902</td>\n",
       "      <td>NaN</td>\n",
       "    </tr>\n",
       "    <tr>\n",
       "      <th>179924</th>\n",
       "      <td>003-0001-05903</td>\n",
       "      <td>NaN</td>\n",
       "    </tr>\n",
       "    <tr>\n",
       "      <th>179925</th>\n",
       "      <td>003-0001-05904</td>\n",
       "      <td>NaN</td>\n",
       "    </tr>\n",
       "    <tr>\n",
       "      <th>179926</th>\n",
       "      <td>003-0001-05905</td>\n",
       "      <td>NaN</td>\n",
       "    </tr>\n",
       "    <tr>\n",
       "      <th>179927</th>\n",
       "      <td>003-0001-05906</td>\n",
       "      <td>NaN</td>\n",
       "    </tr>\n",
       "  </tbody>\n",
       "</table>\n",
       "<p>179928 rows × 2 columns</p>\n",
       "</div>"
      ],
      "text/plain": [
       "                    Id  Predicted\n",
       "0       001-0071-00000        NaN\n",
       "1       001-0071-00001        NaN\n",
       "2       001-0071-00002        NaN\n",
       "3       001-0071-00003        NaN\n",
       "4       001-0071-00004        NaN\n",
       "...                ...        ...\n",
       "179923  003-0001-05902        NaN\n",
       "179924  003-0001-05903        NaN\n",
       "179925  003-0001-05904        NaN\n",
       "179926  003-0001-05905        NaN\n",
       "179927  003-0001-05906        NaN\n",
       "\n",
       "[179928 rows x 2 columns]"
      ]
     },
     "execution_count": 14,
     "metadata": {},
     "output_type": "execute_result"
    }
   ],
   "source": [
    "df"
   ]
  },
  {
   "cell_type": "code",
   "execution_count": 11,
   "id": "ead88626",
   "metadata": {},
   "outputs": [],
   "source": [
    "paths=[]\n",
    "for i in range(71,126):\n",
    "    paths.append('RALIHR_surgeon01_fps01_'+('0000'+str(i))[-4:])\n",
    "\n",
    "for i in range(1,5):\n",
    "    paths.append('RALIHR_surgeon02_fps01_'+('0000'+str(i))[-4:])\n",
    "\n",
    "paths.append('RALIHR_surgeon03_fps01_0001')\n",
    "vid2len={}"
   ]
  },
  {
   "cell_type": "code",
   "execution_count": 12,
   "id": "ba63b16c",
   "metadata": {},
   "outputs": [],
   "source": [
    "import os\n",
    "ROOT='./e6691-bucket-images/'\n",
    "index2data=[]\n",
    "for vid in paths:\n",
    "    vid2len[vid]=len(os.listdir(os.path.join(ROOT,vid)))\n",
    "    for i in range (len(os.listdir(os.path.join(ROOT,vid)))):\n",
    "        index2data.append(os.path.join(vid,'frame'+str(i)+'.jpg'))"
   ]
  },
  {
   "cell_type": "code",
   "execution_count": 23,
   "id": "f2357796",
   "metadata": {},
   "outputs": [
    {
     "data": {
      "text/plain": [
       "1322"
      ]
     },
     "execution_count": 23,
     "metadata": {},
     "output_type": "execute_result"
    }
   ],
   "source": [
    "len(df[df['Id'].str.contains('001-0071-')])"
   ]
  },
  {
   "cell_type": "code",
   "execution_count": 27,
   "id": "806aebaa",
   "metadata": {},
   "outputs": [
    {
     "data": {
      "text/plain": [
       "23"
      ]
     },
     "execution_count": 27,
     "metadata": {},
     "output_type": "execute_result"
    }
   ],
   "source": [
    "len('RALIHR_surgeon01_fps01_')"
   ]
  },
  {
   "cell_type": "code",
   "execution_count": 32,
   "id": "a863bdfd",
   "metadata": {},
   "outputs": [
    {
     "data": {
      "text/plain": [
       "184003"
      ]
     },
     "execution_count": 32,
     "metadata": {},
     "output_type": "execute_result"
    }
   ],
   "source": [
    "lenght"
   ]
  },
  {
   "cell_type": "code",
   "execution_count": 33,
   "id": "e9c7ba7d",
   "metadata": {},
   "outputs": [
    {
     "name": "stdout",
     "output_type": "stream",
     "text": [
      "1\n",
      "1\n",
      "1\n",
      "1\n",
      "1\n",
      "0\n",
      "1\n",
      "1\n",
      "1\n",
      "1\n",
      "1\n",
      "1\n",
      "1\n",
      "1\n",
      "1\n",
      "1\n",
      "1\n",
      "1\n",
      "1\n",
      "1\n",
      "1\n",
      "1\n",
      "1\n",
      "1\n",
      "1\n",
      "1\n",
      "1\n",
      "1\n",
      "1\n",
      "1\n",
      "1\n",
      "1\n",
      "-261\n",
      "1\n",
      "1\n",
      "1\n",
      "1\n",
      "1\n",
      "1\n",
      "1\n",
      "1\n",
      "1\n",
      "1\n",
      "1\n",
      "1\n",
      "1\n",
      "1\n",
      "1\n",
      "1\n",
      "1\n",
      "1\n",
      "1\n",
      "1\n",
      "1\n",
      "-3871\n",
      "1\n",
      "1\n",
      "1\n",
      "1\n",
      "1\n"
     ]
    }
   ],
   "source": [
    "\n",
    "for vid in vid2len:\n",
    "    l1=vid2len[vid]\n",
    "    lenght+=l1\n",
    "    rows=vid[14:16]+'-'+vid[23:27]+'-'\n",
    "    l2=len(df[df['Id'].str.contains(rows)])\n",
    "    print(l2-l1)\n"
   ]
  }
 ],
 "metadata": {
  "kernelspec": {
   "display_name": "Python 3",
   "language": "python",
   "name": "python3"
  },
  "language_info": {
   "codemirror_mode": {
    "name": "ipython",
    "version": 3
   },
   "file_extension": ".py",
   "mimetype": "text/x-python",
   "name": "python",
   "nbconvert_exporter": "python",
   "pygments_lexer": "ipython3",
   "version": "3.7.12"
  }
 },
 "nbformat": 4,
 "nbformat_minor": 5
}
