{
 "cells": [
  {
   "cell_type": "markdown",
   "id": "359ed14b",
   "metadata": {},
   "source": [
    "#### To create the gcp instance, this link is still relevant https://ecbme4040.github.io/2021_fall/EnvSetup/gcp.html\n",
    "#### just use the pytorch deep learning  boot drive by gcp\n",
    "#### T4 gpus may be more available in the `south america zone\n",
    "#### other param: drive size to at least 100, allow http, https traffic, and access to all apis"
   ]
  },
  {
   "cell_type": "markdown",
   "id": "2ee3e701",
   "metadata": {},
   "source": [
    "## 1 clone git repo, change working directory"
   ]
  },
  {
   "cell_type": "markdown",
   "id": "0af4c915",
   "metadata": {},
   "source": [
    "## 2 copy image dataset, and model weights"
   ]
  },
  {
   "cell_type": "code",
   "execution_count": null,
   "id": "3a7b1ab2",
   "metadata": {},
   "outputs": [],
   "source": [
    "!gsutil cp -r  gs://e6691-bucket-models/models ./\n",
    "!gsutil cp -r  gs://e6691-bucket-images ./"
   ]
  },
  {
   "cell_type": "markdown",
   "id": "67ae32a1",
   "metadata": {},
   "source": [
    "## 3 unzip images, it tkaes a couple of minutes"
   ]
  },
  {
   "cell_type": "code",
   "execution_count": null,
   "id": "ff86ac4a",
   "metadata": {},
   "outputs": [],
   "source": [
    "!cd e6691-bucket-images\n",
    "!unzip -qq images.zip"
   ]
  },
  {
   "cell_type": "markdown",
   "id": "3efabe40",
   "metadata": {},
   "source": [
    "## To work with video data, copy from the video bucket"
   ]
  },
  {
   "cell_type": "code",
   "execution_count": null,
   "id": "6fa21e44",
   "metadata": {},
   "outputs": [],
   "source": [
    "!gsutil cp -r  gs://e6691-bucket-videos ./ #working dir is project dir"
   ]
  }
 ],
 "metadata": {
  "kernelspec": {
   "display_name": "Python 3",
   "language": "python",
   "name": "python3"
  },
  "language_info": {
   "codemirror_mode": {
    "name": "ipython",
    "version": 3
   },
   "file_extension": ".py",
   "mimetype": "text/x-python",
   "name": "python",
   "nbconvert_exporter": "python",
   "pygments_lexer": "ipython3",
   "version": "3.7.12"
  }
 },
 "nbformat": 4,
 "nbformat_minor": 5
}
