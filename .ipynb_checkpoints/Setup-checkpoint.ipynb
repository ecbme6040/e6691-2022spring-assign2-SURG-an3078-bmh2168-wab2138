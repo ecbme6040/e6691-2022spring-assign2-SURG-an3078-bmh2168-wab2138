{
 "cells": [
  {
   "cell_type": "markdown",
   "id": "8bf37f8b",
   "metadata": {},
   "source": [
    "## 1 clone git repo, change working directory"
   ]
  },
  {
   "cell_type": "markdown",
   "id": "ab767a5c",
   "metadata": {},
   "source": [
    "## 2 copy image dataset, and model weights"
   ]
  },
  {
   "cell_type": "code",
   "execution_count": null,
   "id": "d63ac8dd",
   "metadata": {},
   "outputs": [],
   "source": [
    "!gsutil cp -r  gs://e6691-bucket-models/models ./\n",
    "!gsutil cp -r  gs://e6691-bucket-images ./"
   ]
  },
  {
   "cell_type": "markdown",
   "id": "4fef93b7",
   "metadata": {},
   "source": [
    "## 3 unzip images, it tkaes a couple of minutes"
   ]
  },
  {
   "cell_type": "code",
   "execution_count": null,
   "id": "10d67d0e",
   "metadata": {},
   "outputs": [],
   "source": [
    "!cd e6691-bucket-images\n",
    "!unzip -qq images.zip"
   ]
  },
  {
   "cell_type": "markdown",
   "id": "fa399ceb",
   "metadata": {},
   "source": [
    "## To work with video data, copy from the video bucket"
   ]
  },
  {
   "cell_type": "code",
   "execution_count": null,
   "id": "63d0fe34",
   "metadata": {},
   "outputs": [],
   "source": [
    "!gsutil cp -r  gs://e6691-bucket-videos ./ #working dir is project dir"
   ]
  }
 ],
 "metadata": {
  "kernelspec": {
   "display_name": "Python 3",
   "language": "python",
   "name": "python3"
  },
  "language_info": {
   "codemirror_mode": {
    "name": "ipython",
    "version": 3
   },
   "file_extension": ".py",
   "mimetype": "text/x-python",
   "name": "python",
   "nbconvert_exporter": "python",
   "pygments_lexer": "ipython3",
   "version": "3.7.12"
  }
 },
 "nbformat": 4,
 "nbformat_minor": 5
}
