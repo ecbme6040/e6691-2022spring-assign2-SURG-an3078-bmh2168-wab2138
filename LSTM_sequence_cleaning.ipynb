{
 "cells": [
  {
   "cell_type": "code",
   "execution_count": 11,
   "id": "8906f9a4",
   "metadata": {},
   "outputs": [],
   "source": [
    "from __future__ import print_function, division\n",
    "\n",
    "import torch\n",
    "import torch.nn as nn\n",
    "import torch.optim as optim\n",
    "from torch.optim import lr_scheduler\n",
    "import torch.backends.cudnn as cudnn\n",
    "import numpy as np\n",
    "import torchvision\n",
    "from torchvision import datasets, models, transforms\n",
    "import matplotlib.pyplot as plt\n",
    "import time\n",
    "import os\n",
    "import copy\n",
    "from torch.utils.data import DataLoader\n",
    "cudnn.benchmark = True\n",
    "plt.ion()   # interactive mode\n",
    "from utils.SequenceDataset import SequenceDataset\n",
    "from tqdm import tqdm\n",
    "import torch.nn.functional as F\n",
    "CLASSES=14\n",
    "device = torch.device(\"cuda:0\" if torch.cuda.is_available() else  \"cpu\")"
   ]
  },
  {
   "cell_type": "code",
   "execution_count": 2,
   "id": "868fb5d0",
   "metadata": {},
   "outputs": [],
   "source": [
    "import pickle\n",
    "with open('./pickle/vids2label.p', 'rb') as fp:\n",
    "    vids2label = pickle.load(fp)"
   ]
  },
  {
   "cell_type": "code",
   "execution_count": 3,
   "id": "734ad316",
   "metadata": {},
   "outputs": [
    {
     "data": {
      "text/plain": [
       "50"
      ]
     },
     "execution_count": 3,
     "metadata": {},
     "output_type": "execute_result"
    }
   ],
   "source": [
    "train_set = SequenceDataset()\n",
    "val_set = SequenceDataset(train=False)\n",
    "train_set.__len__()"
   ]
  },
  {
   "cell_type": "code",
   "execution_count": 4,
   "id": "5fd2e249",
   "metadata": {},
   "outputs": [],
   "source": [
    "bs=1\n",
    "dataset_sizes = {'train':train_set.__len__(),'val': val_set.__len__()}\n",
    "train_loader = DataLoader(dataset=train_set,\n",
    "                          batch_size=bs,\n",
    "                          shuffle=True,\n",
    "                          num_workers=4)\n",
    "val_loader = DataLoader(dataset=val_set,\n",
    "                          batch_size=bs,\n",
    "                          shuffle=True,\n",
    "                          num_workers=4)\n",
    "dataloaders={'train':train_loader,'val':val_loader}"
   ]
  },
  {
   "cell_type": "code",
   "execution_count": 5,
   "id": "ae83fd88",
   "metadata": {},
   "outputs": [],
   "source": [
    "def train_model(model, criterion, optimizer, scheduler, num_epochs=25):\n",
    "    since = time.time()\n",
    "\n",
    "    best_model_wts = copy.deepcopy(model.state_dict())\n",
    "    best_acc = 0.0\n",
    "   \n",
    "    for epoch in range(num_epochs):\n",
    "        print(f'Epoch {epoch}/{num_epochs - 1}')\n",
    "        print('-' * 10)\n",
    "\n",
    "        # Each epoch has a training and validation phase\n",
    "        for phase in ['train', 'val']:\n",
    "            if phase == 'train':\n",
    "                model.train()  # Set model to training mode\n",
    "            else:\n",
    "                model.eval()   # Set model to evaluate mode\n",
    "\n",
    "            running_loss = 0.0\n",
    "            running_corrects = 0\n",
    "            running_number_of_preds=0.0\n",
    "            # Iterate over data.\n",
    "            with tqdm(dataloaders[phase], unit=\"batch\") as tepoch:\n",
    "                batches=0\n",
    "                for inputs, labels in tepoch:\n",
    "                    tepoch.set_description(f\"Epoch {epoch}\")\n",
    "                    inputs = inputs.to(device)\n",
    "                    labels = labels.type(torch.LongTensor)\n",
    "                    labels = labels.to(device)\n",
    "\n",
    "                    # zero the parameter gradients\n",
    "                    optimizer.zero_grad()\n",
    "                    \n",
    "                    # forward\n",
    "                    # track history if only in train\n",
    "                    with torch.set_grad_enabled(phase == 'train'):\n",
    "                        \n",
    "                        outputs = model(inputs)\n",
    "                        \n",
    "                        outputs = torch.reshape(outputs, (-1,CLASSES))\n",
    "                        \n",
    "                        labels = labels.view(-1)\n",
    "                        _, preds = torch.max(outputs, 1)\n",
    "                       \n",
    "                        loss = criterion(outputs, labels)\n",
    "\n",
    "                        # backward + optimize only if in training phase\n",
    "                        if phase == 'train':\n",
    "                            loss.backward()\n",
    "                            optimizer.step()\n",
    "\n",
    "                    # statistics\n",
    "                    running_loss += loss.item() * inputs.size(0)\n",
    "                    running_corrects += torch.sum(preds == labels.data)\n",
    "                    batches+=1    \n",
    "                    \n",
    "                    tot_len=len(preds)\n",
    "                    running_number_of_preds+=tot_len\n",
    "                    #print(running_corrects)\n",
    "                    tepoch.set_postfix(loss=running_loss/(running_number_of_preds), accuracy=100. * running_corrects.item()/(running_number_of_preds))\n",
    "\n",
    "            if phase == 'train':\n",
    "                scheduler.step()\n",
    "\n",
    "            epoch_loss = running_loss / running_number_of_preds\n",
    "            epoch_acc = running_corrects.double() / running_number_of_preds\n",
    "\n",
    "            print(f'{phase} Loss: {epoch_loss:.4f} Acc: {epoch_acc:.4f}')\n",
    "\n",
    "            # deep copy the model\n",
    "            if phase == 'val' and epoch_acc > best_acc:\n",
    "                best_acc = epoch_acc\n",
    "                best_model_wts = copy.deepcopy(model.state_dict())\n",
    "\n",
    "        print()\n",
    "\n",
    "    time_elapsed = time.time() - since\n",
    "    print(f'Training complete in {time_elapsed // 60:.0f}m {time_elapsed % 60:.0f}s')\n",
    "    print(f'Best val Acc: {best_acc:4f}')\n",
    "\n",
    "    # load best model weights\n",
    "    model.load_state_dict(best_model_wts)\n",
    "    return model"
   ]
  },
  {
   "cell_type": "code",
   "execution_count": 6,
   "id": "c9644b02",
   "metadata": {},
   "outputs": [],
   "source": [
    "class LSTM(nn.Module):\n",
    "    def __init__(self):\n",
    "        super(LSTM, self).__init__()        \n",
    "        self.lstm = nn.LSTM(input_size=14, hidden_size=32, num_layers=2,bidirectional=True)\n",
    "        #self.fc1 = nn.Linear(128, 32)\n",
    "        self.fc2 = nn.Linear(64, CLASSES)\n",
    "       \n",
    "    def forward(self, x_3d):\n",
    "        #x3d:  torch.Size([128, 32, 1, 80, 80])\n",
    "        hidden = None\n",
    "        toret  = []\n",
    "        \n",
    "        output, hidden = self.lstm(x_3d, hidden)\n",
    "       \n",
    "\n",
    "        x = F.relu(output)\n",
    "        x = self.fc2(x)\n",
    "        #print(\"x shape: \", x.shape)\n",
    "            \n",
    "            \n",
    "        return x"
   ]
  },
  {
   "cell_type": "code",
   "execution_count": 7,
   "id": "886bf493",
   "metadata": {},
   "outputs": [],
   "source": [
    "model = LSTM()\n",
    "model.to(device)\n",
    "\n",
    "criterion = nn.CrossEntropyLoss()\n",
    "\n",
    "# Observe that all parameters are being optimized\n",
    "optimizer_ft = optim.Adam(model.parameters(), lr=0.01)\n",
    "\n",
    "# Decay LR by a factor of 0.1 every 2 epochs\n",
    "exp_lr_scheduler = lr_scheduler.StepLR(optimizer_ft, step_size=40, gamma=0.1)"
   ]
  },
  {
   "cell_type": "code",
   "execution_count": 8,
   "id": "d8fb00d4",
   "metadata": {},
   "outputs": [
    {
     "name": "stdout",
     "output_type": "stream",
     "text": [
      "Epoch 0/99\n",
      "----------\n"
     ]
    },
    {
     "name": "stderr",
     "output_type": "stream",
     "text": [
      "Epoch 0: 100%|██████████████████████████████████| 50/50 [00:00<00:00, 82.68batch/s, accuracy=34.7, loss=0.00126]\n"
     ]
    },
    {
     "name": "stdout",
     "output_type": "stream",
     "text": [
      "train Loss: 0.0013 Acc: 0.3475\n"
     ]
    },
    {
     "name": "stderr",
     "output_type": "stream",
     "text": [
      "Epoch 0: 100%|██████████████████████████████████| 20/20 [00:00<00:00, 61.66batch/s, accuracy=59.5, loss=0.00042]\n"
     ]
    },
    {
     "name": "stdout",
     "output_type": "stream",
     "text": [
      "val Loss: 0.0004 Acc: 0.5949\n",
      "\n",
      "Epoch 1/99\n",
      "----------\n"
     ]
    },
    {
     "name": "stderr",
     "output_type": "stream",
     "text": [
      "Epoch 1: 100%|█████████████████████████████████| 50/50 [00:00<00:00, 84.00batch/s, accuracy=75.1, loss=0.000649]\n"
     ]
    },
    {
     "name": "stdout",
     "output_type": "stream",
     "text": [
      "train Loss: 0.0006 Acc: 0.7506\n"
     ]
    },
    {
     "name": "stderr",
     "output_type": "stream",
     "text": [
      "Epoch 1: 100%|█████████████████████████████████| 20/20 [00:00<00:00, 63.41batch/s, accuracy=77.4, loss=0.000253]\n"
     ]
    },
    {
     "name": "stdout",
     "output_type": "stream",
     "text": [
      "val Loss: 0.0003 Acc: 0.7742\n",
      "\n",
      "Epoch 2/99\n",
      "----------\n"
     ]
    },
    {
     "name": "stderr",
     "output_type": "stream",
     "text": [
      "Epoch 2: 100%|█████████████████████████████████| 50/50 [00:00<00:00, 85.65batch/s, accuracy=82.7, loss=0.000463]\n"
     ]
    },
    {
     "name": "stdout",
     "output_type": "stream",
     "text": [
      "train Loss: 0.0005 Acc: 0.8269\n"
     ]
    },
    {
     "name": "stderr",
     "output_type": "stream",
     "text": [
      "Epoch 2: 100%|████████████████████████████████████| 20/20 [00:00<00:00, 60.87batch/s, accuracy=80, loss=0.00023]\n"
     ]
    },
    {
     "name": "stdout",
     "output_type": "stream",
     "text": [
      "val Loss: 0.0002 Acc: 0.8004\n",
      "\n",
      "Epoch 3/99\n",
      "----------\n"
     ]
    },
    {
     "name": "stderr",
     "output_type": "stream",
     "text": [
      "Epoch 3: 100%|█████████████████████████████████| 50/50 [00:00<00:00, 85.06batch/s, accuracy=81.5, loss=0.000464]\n"
     ]
    },
    {
     "name": "stdout",
     "output_type": "stream",
     "text": [
      "train Loss: 0.0005 Acc: 0.8149\n"
     ]
    },
    {
     "name": "stderr",
     "output_type": "stream",
     "text": [
      "Epoch 3: 100%|█████████████████████████████████| 20/20 [00:00<00:00, 64.05batch/s, accuracy=80.7, loss=0.000233]\n"
     ]
    },
    {
     "name": "stdout",
     "output_type": "stream",
     "text": [
      "val Loss: 0.0002 Acc: 0.8071\n",
      "\n",
      "Epoch 4/99\n",
      "----------\n"
     ]
    },
    {
     "name": "stderr",
     "output_type": "stream",
     "text": [
      "Epoch 4: 100%|█████████████████████████████████| 50/50 [00:00<00:00, 80.80batch/s, accuracy=82.1, loss=0.000471]\n"
     ]
    },
    {
     "name": "stdout",
     "output_type": "stream",
     "text": [
      "train Loss: 0.0005 Acc: 0.8212\n"
     ]
    },
    {
     "name": "stderr",
     "output_type": "stream",
     "text": [
      "Epoch 4: 100%|█████████████████████████████████| 20/20 [00:00<00:00, 60.58batch/s, accuracy=81.2, loss=0.000229]\n"
     ]
    },
    {
     "name": "stdout",
     "output_type": "stream",
     "text": [
      "val Loss: 0.0002 Acc: 0.8115\n",
      "\n",
      "Epoch 5/99\n",
      "----------\n"
     ]
    },
    {
     "name": "stderr",
     "output_type": "stream",
     "text": [
      "Epoch 5: 100%|██████████████████████████████████| 50/50 [00:00<00:00, 81.59batch/s, accuracy=81.3, loss=0.00048]\n"
     ]
    },
    {
     "name": "stdout",
     "output_type": "stream",
     "text": [
      "train Loss: 0.0005 Acc: 0.8133\n"
     ]
    },
    {
     "name": "stderr",
     "output_type": "stream",
     "text": [
      "Epoch 5: 100%|█████████████████████████████████| 20/20 [00:00<00:00, 62.47batch/s, accuracy=82.7, loss=0.000214]\n"
     ]
    },
    {
     "name": "stdout",
     "output_type": "stream",
     "text": [
      "val Loss: 0.0002 Acc: 0.8273\n",
      "\n",
      "Epoch 6/99\n",
      "----------\n"
     ]
    },
    {
     "name": "stderr",
     "output_type": "stream",
     "text": [
      "Epoch 6: 100%|█████████████████████████████████| 50/50 [00:00<00:00, 85.06batch/s, accuracy=82.8, loss=0.000469]\n"
     ]
    },
    {
     "name": "stdout",
     "output_type": "stream",
     "text": [
      "train Loss: 0.0005 Acc: 0.8281\n"
     ]
    },
    {
     "name": "stderr",
     "output_type": "stream",
     "text": [
      "Epoch 6: 100%|█████████████████████████████████| 20/20 [00:00<00:00, 62.18batch/s, accuracy=81.1, loss=0.000216]\n"
     ]
    },
    {
     "name": "stdout",
     "output_type": "stream",
     "text": [
      "val Loss: 0.0002 Acc: 0.8109\n",
      "\n",
      "Epoch 7/99\n",
      "----------\n"
     ]
    },
    {
     "name": "stderr",
     "output_type": "stream",
     "text": [
      "Epoch 7: 100%|█████████████████████████████████| 50/50 [00:00<00:00, 86.25batch/s, accuracy=82.2, loss=0.000439]\n"
     ]
    },
    {
     "name": "stdout",
     "output_type": "stream",
     "text": [
      "train Loss: 0.0004 Acc: 0.8219\n"
     ]
    },
    {
     "name": "stderr",
     "output_type": "stream",
     "text": [
      "Epoch 7: 100%|█████████████████████████████████| 20/20 [00:00<00:00, 63.75batch/s, accuracy=79.1, loss=0.000248]\n"
     ]
    },
    {
     "name": "stdout",
     "output_type": "stream",
     "text": [
      "val Loss: 0.0002 Acc: 0.7907\n",
      "\n",
      "Epoch 8/99\n",
      "----------\n"
     ]
    },
    {
     "name": "stderr",
     "output_type": "stream",
     "text": [
      "Epoch 8: 100%|█████████████████████████████████| 50/50 [00:00<00:00, 85.59batch/s, accuracy=84.8, loss=0.000404]\n"
     ]
    },
    {
     "name": "stdout",
     "output_type": "stream",
     "text": [
      "train Loss: 0.0004 Acc: 0.8483\n"
     ]
    },
    {
     "name": "stderr",
     "output_type": "stream",
     "text": [
      "Epoch 8: 100%|█████████████████████████████████| 20/20 [00:00<00:00, 61.96batch/s, accuracy=81.7, loss=0.000223]\n"
     ]
    },
    {
     "name": "stdout",
     "output_type": "stream",
     "text": [
      "val Loss: 0.0002 Acc: 0.8174\n",
      "\n",
      "Epoch 9/99\n",
      "----------\n"
     ]
    },
    {
     "name": "stderr",
     "output_type": "stream",
     "text": [
      "Epoch 9: 100%|██████████████████████████████████| 50/50 [00:00<00:00, 85.76batch/s, accuracy=83.8, loss=0.00043]\n"
     ]
    },
    {
     "name": "stdout",
     "output_type": "stream",
     "text": [
      "train Loss: 0.0004 Acc: 0.8376\n"
     ]
    },
    {
     "name": "stderr",
     "output_type": "stream",
     "text": [
      "Epoch 9: 100%|█████████████████████████████████| 20/20 [00:00<00:00, 63.82batch/s, accuracy=81.9, loss=0.000209]\n"
     ]
    },
    {
     "name": "stdout",
     "output_type": "stream",
     "text": [
      "val Loss: 0.0002 Acc: 0.8187\n",
      "\n",
      "Epoch 10/99\n",
      "----------\n"
     ]
    },
    {
     "name": "stderr",
     "output_type": "stream",
     "text": [
      "Epoch 10: 100%|████████████████████████████████| 50/50 [00:00<00:00, 86.02batch/s, accuracy=84.7, loss=0.000414]\n"
     ]
    },
    {
     "name": "stdout",
     "output_type": "stream",
     "text": [
      "train Loss: 0.0004 Acc: 0.8468\n"
     ]
    },
    {
     "name": "stderr",
     "output_type": "stream",
     "text": [
      "Epoch 10: 100%|████████████████████████████████| 20/20 [00:00<00:00, 63.93batch/s, accuracy=79.8, loss=0.000232]\n"
     ]
    },
    {
     "name": "stdout",
     "output_type": "stream",
     "text": [
      "val Loss: 0.0002 Acc: 0.7982\n",
      "\n",
      "Epoch 11/99\n",
      "----------\n"
     ]
    },
    {
     "name": "stderr",
     "output_type": "stream",
     "text": [
      "Epoch 11: 100%|████████████████████████████████| 50/50 [00:00<00:00, 83.76batch/s, accuracy=82.2, loss=0.000437]\n"
     ]
    },
    {
     "name": "stdout",
     "output_type": "stream",
     "text": [
      "train Loss: 0.0004 Acc: 0.8220\n"
     ]
    },
    {
     "name": "stderr",
     "output_type": "stream",
     "text": [
      "Epoch 11: 100%|████████████████████████████████| 20/20 [00:00<00:00, 62.48batch/s, accuracy=81.3, loss=0.000219]\n"
     ]
    },
    {
     "name": "stdout",
     "output_type": "stream",
     "text": [
      "val Loss: 0.0002 Acc: 0.8126\n",
      "\n",
      "Epoch 12/99\n",
      "----------\n"
     ]
    },
    {
     "name": "stderr",
     "output_type": "stream",
     "text": [
      "Epoch 12: 100%|████████████████████████████████| 50/50 [00:00<00:00, 85.24batch/s, accuracy=82.8, loss=0.000461]\n"
     ]
    },
    {
     "name": "stdout",
     "output_type": "stream",
     "text": [
      "train Loss: 0.0005 Acc: 0.8284\n"
     ]
    },
    {
     "name": "stderr",
     "output_type": "stream",
     "text": [
      "Epoch 12: 100%|████████████████████████████████| 20/20 [00:00<00:00, 60.82batch/s, accuracy=78.7, loss=0.000241]\n"
     ]
    },
    {
     "name": "stdout",
     "output_type": "stream",
     "text": [
      "val Loss: 0.0002 Acc: 0.7874\n",
      "\n",
      "Epoch 13/99\n",
      "----------\n"
     ]
    },
    {
     "name": "stderr",
     "output_type": "stream",
     "text": [
      "Epoch 13: 100%|████████████████████████████████| 50/50 [00:00<00:00, 83.33batch/s, accuracy=83.2, loss=0.000453]\n"
     ]
    },
    {
     "name": "stdout",
     "output_type": "stream",
     "text": [
      "train Loss: 0.0005 Acc: 0.8317\n"
     ]
    },
    {
     "name": "stderr",
     "output_type": "stream",
     "text": [
      "Epoch 13: 100%|████████████████████████████████| 20/20 [00:00<00:00, 63.49batch/s, accuracy=81.2, loss=0.000226]\n"
     ]
    },
    {
     "name": "stdout",
     "output_type": "stream",
     "text": [
      "val Loss: 0.0002 Acc: 0.8116\n",
      "\n",
      "Epoch 14/99\n",
      "----------\n"
     ]
    },
    {
     "name": "stderr",
     "output_type": "stream",
     "text": [
      "Epoch 14: 100%|██████████████████████████████████| 50/50 [00:00<00:00, 86.29batch/s, accuracy=80, loss=0.000505]\n"
     ]
    },
    {
     "name": "stdout",
     "output_type": "stream",
     "text": [
      "train Loss: 0.0005 Acc: 0.7998\n"
     ]
    },
    {
     "name": "stderr",
     "output_type": "stream",
     "text": [
      "Epoch 14: 100%|████████████████████████████████| 20/20 [00:00<00:00, 62.30batch/s, accuracy=82.2, loss=0.000225]\n"
     ]
    },
    {
     "name": "stdout",
     "output_type": "stream",
     "text": [
      "val Loss: 0.0002 Acc: 0.8223\n",
      "\n",
      "Epoch 15/99\n",
      "----------\n"
     ]
    },
    {
     "name": "stderr",
     "output_type": "stream",
     "text": [
      "Epoch 15: 100%|████████████████████████████████| 50/50 [00:00<00:00, 84.38batch/s, accuracy=80.4, loss=0.000486]\n"
     ]
    },
    {
     "name": "stdout",
     "output_type": "stream",
     "text": [
      "train Loss: 0.0005 Acc: 0.8036\n"
     ]
    },
    {
     "name": "stderr",
     "output_type": "stream",
     "text": [
      "Epoch 15: 100%|████████████████████████████████| 20/20 [00:00<00:00, 61.08batch/s, accuracy=78.8, loss=0.000225]\n"
     ]
    },
    {
     "name": "stdout",
     "output_type": "stream",
     "text": [
      "val Loss: 0.0002 Acc: 0.7878\n",
      "\n",
      "Epoch 16/99\n",
      "----------\n"
     ]
    },
    {
     "name": "stderr",
     "output_type": "stream",
     "text": [
      "Epoch 16: 100%|████████████████████████████████| 50/50 [00:00<00:00, 85.01batch/s, accuracy=80.5, loss=0.000474]\n"
     ]
    },
    {
     "name": "stdout",
     "output_type": "stream",
     "text": [
      "train Loss: 0.0005 Acc: 0.8054\n"
     ]
    },
    {
     "name": "stderr",
     "output_type": "stream",
     "text": [
      "Epoch 16: 100%|████████████████████████████████| 20/20 [00:00<00:00, 61.74batch/s, accuracy=80.7, loss=0.000228]\n"
     ]
    },
    {
     "name": "stdout",
     "output_type": "stream",
     "text": [
      "val Loss: 0.0002 Acc: 0.8074\n",
      "\n",
      "Epoch 17/99\n",
      "----------\n"
     ]
    },
    {
     "name": "stderr",
     "output_type": "stream",
     "text": [
      "Epoch 17: 100%|████████████████████████████████| 50/50 [00:00<00:00, 84.96batch/s, accuracy=84.1, loss=0.000405]\n"
     ]
    },
    {
     "name": "stdout",
     "output_type": "stream",
     "text": [
      "train Loss: 0.0004 Acc: 0.8409\n"
     ]
    },
    {
     "name": "stderr",
     "output_type": "stream",
     "text": [
      "Epoch 17: 100%|████████████████████████████████| 20/20 [00:00<00:00, 60.24batch/s, accuracy=86.1, loss=0.000187]\n"
     ]
    },
    {
     "name": "stdout",
     "output_type": "stream",
     "text": [
      "val Loss: 0.0002 Acc: 0.8610\n",
      "\n",
      "Epoch 18/99\n",
      "----------\n"
     ]
    },
    {
     "name": "stderr",
     "output_type": "stream",
     "text": [
      "Epoch 18: 100%|█████████████████████████████████| 50/50 [00:00<00:00, 83.11batch/s, accuracy=83.1, loss=0.00042]\n"
     ]
    },
    {
     "name": "stdout",
     "output_type": "stream",
     "text": [
      "train Loss: 0.0004 Acc: 0.8314\n"
     ]
    },
    {
     "name": "stderr",
     "output_type": "stream",
     "text": [
      "Epoch 18: 100%|██████████████████████████████████| 20/20 [00:00<00:00, 61.71batch/s, accuracy=84, loss=0.000201]\n"
     ]
    },
    {
     "name": "stdout",
     "output_type": "stream",
     "text": [
      "val Loss: 0.0002 Acc: 0.8397\n",
      "\n",
      "Epoch 19/99\n",
      "----------\n"
     ]
    },
    {
     "name": "stderr",
     "output_type": "stream",
     "text": [
      "Epoch 19: 100%|████████████████████████████████| 50/50 [00:00<00:00, 84.62batch/s, accuracy=83.6, loss=0.000441]\n"
     ]
    },
    {
     "name": "stdout",
     "output_type": "stream",
     "text": [
      "train Loss: 0.0004 Acc: 0.8364\n"
     ]
    },
    {
     "name": "stderr",
     "output_type": "stream",
     "text": [
      "Epoch 19: 100%|██████████████████████████████████| 20/20 [00:00<00:00, 63.63batch/s, accuracy=84, loss=0.000194]\n"
     ]
    },
    {
     "name": "stdout",
     "output_type": "stream",
     "text": [
      "val Loss: 0.0002 Acc: 0.8400\n",
      "\n",
      "Epoch 20/99\n",
      "----------\n"
     ]
    },
    {
     "name": "stderr",
     "output_type": "stream",
     "text": [
      "Epoch 20: 100%|████████████████████████████████| 50/50 [00:00<00:00, 83.16batch/s, accuracy=82.2, loss=0.000443]\n"
     ]
    },
    {
     "name": "stdout",
     "output_type": "stream",
     "text": [
      "train Loss: 0.0004 Acc: 0.8225\n"
     ]
    },
    {
     "name": "stderr",
     "output_type": "stream",
     "text": [
      "Epoch 20: 100%|████████████████████████████████| 20/20 [00:00<00:00, 61.92batch/s, accuracy=80.5, loss=0.000216]\n"
     ]
    },
    {
     "name": "stdout",
     "output_type": "stream",
     "text": [
      "val Loss: 0.0002 Acc: 0.8045\n",
      "\n",
      "Epoch 21/99\n",
      "----------\n"
     ]
    },
    {
     "name": "stderr",
     "output_type": "stream",
     "text": [
      "Epoch 21: 100%|████████████████████████████████| 50/50 [00:00<00:00, 83.83batch/s, accuracy=82.6, loss=0.000435]\n"
     ]
    },
    {
     "name": "stdout",
     "output_type": "stream",
     "text": [
      "train Loss: 0.0004 Acc: 0.8257\n"
     ]
    },
    {
     "name": "stderr",
     "output_type": "stream",
     "text": [
      "Epoch 21: 100%|████████████████████████████████| 20/20 [00:00<00:00, 60.66batch/s, accuracy=82.1, loss=0.000203]\n"
     ]
    },
    {
     "name": "stdout",
     "output_type": "stream",
     "text": [
      "val Loss: 0.0002 Acc: 0.8214\n",
      "\n",
      "Epoch 22/99\n",
      "----------\n"
     ]
    },
    {
     "name": "stderr",
     "output_type": "stream",
     "text": [
      "Epoch 22: 100%|██████████████████████████████████| 50/50 [00:00<00:00, 85.30batch/s, accuracy=82, loss=0.000444]\n"
     ]
    },
    {
     "name": "stdout",
     "output_type": "stream",
     "text": [
      "train Loss: 0.0004 Acc: 0.8200\n"
     ]
    },
    {
     "name": "stderr",
     "output_type": "stream",
     "text": [
      "Epoch 22: 100%|██████████████████████████████████| 20/20 [00:00<00:00, 59.53batch/s, accuracy=79, loss=0.000229]\n"
     ]
    },
    {
     "name": "stdout",
     "output_type": "stream",
     "text": [
      "val Loss: 0.0002 Acc: 0.7900\n",
      "\n",
      "Epoch 23/99\n",
      "----------\n"
     ]
    },
    {
     "name": "stderr",
     "output_type": "stream",
     "text": [
      "Epoch 23: 100%|████████████████████████████████| 50/50 [00:00<00:00, 84.14batch/s, accuracy=80.3, loss=0.000491]\n"
     ]
    },
    {
     "name": "stdout",
     "output_type": "stream",
     "text": [
      "train Loss: 0.0005 Acc: 0.8028\n"
     ]
    },
    {
     "name": "stderr",
     "output_type": "stream",
     "text": [
      "Epoch 23: 100%|████████████████████████████████| 20/20 [00:00<00:00, 62.23batch/s, accuracy=82.6, loss=0.000209]\n"
     ]
    },
    {
     "name": "stdout",
     "output_type": "stream",
     "text": [
      "val Loss: 0.0002 Acc: 0.8255\n",
      "\n",
      "Epoch 24/99\n",
      "----------\n"
     ]
    },
    {
     "name": "stderr",
     "output_type": "stream",
     "text": [
      "Epoch 24: 100%|████████████████████████████████| 50/50 [00:00<00:00, 85.64batch/s, accuracy=82.4, loss=0.000438]\n"
     ]
    },
    {
     "name": "stdout",
     "output_type": "stream",
     "text": [
      "train Loss: 0.0004 Acc: 0.8244\n"
     ]
    },
    {
     "name": "stderr",
     "output_type": "stream",
     "text": [
      "Epoch 24: 100%|████████████████████████████████| 20/20 [00:00<00:00, 66.60batch/s, accuracy=79.4, loss=0.000238]\n"
     ]
    },
    {
     "name": "stdout",
     "output_type": "stream",
     "text": [
      "val Loss: 0.0002 Acc: 0.7941\n",
      "\n",
      "Epoch 25/99\n",
      "----------\n"
     ]
    },
    {
     "name": "stderr",
     "output_type": "stream",
     "text": [
      "Epoch 25: 100%|████████████████████████████████| 50/50 [00:00<00:00, 85.84batch/s, accuracy=78.9, loss=0.000534]\n"
     ]
    },
    {
     "name": "stdout",
     "output_type": "stream",
     "text": [
      "train Loss: 0.0005 Acc: 0.7885\n"
     ]
    },
    {
     "name": "stderr",
     "output_type": "stream",
     "text": [
      "Epoch 25: 100%|████████████████████████████████| 20/20 [00:00<00:00, 62.23batch/s, accuracy=81.5, loss=0.000211]\n"
     ]
    },
    {
     "name": "stdout",
     "output_type": "stream",
     "text": [
      "val Loss: 0.0002 Acc: 0.8152\n",
      "\n",
      "Epoch 26/99\n",
      "----------\n"
     ]
    },
    {
     "name": "stderr",
     "output_type": "stream",
     "text": [
      "Epoch 26: 100%|█████████████████████████████████| 50/50 [00:00<00:00, 84.97batch/s, accuracy=82.8, loss=0.00042]\n"
     ]
    },
    {
     "name": "stdout",
     "output_type": "stream",
     "text": [
      "train Loss: 0.0004 Acc: 0.8278\n"
     ]
    },
    {
     "name": "stderr",
     "output_type": "stream",
     "text": [
      "Epoch 26: 100%|████████████████████████████████| 20/20 [00:00<00:00, 60.37batch/s, accuracy=79.5, loss=0.000228]\n"
     ]
    },
    {
     "name": "stdout",
     "output_type": "stream",
     "text": [
      "val Loss: 0.0002 Acc: 0.7951\n",
      "\n",
      "Epoch 27/99\n",
      "----------\n"
     ]
    },
    {
     "name": "stderr",
     "output_type": "stream",
     "text": [
      "Epoch 27: 100%|████████████████████████████████| 50/50 [00:00<00:00, 82.78batch/s, accuracy=81.4, loss=0.000462]\n"
     ]
    },
    {
     "name": "stdout",
     "output_type": "stream",
     "text": [
      "train Loss: 0.0005 Acc: 0.8138\n"
     ]
    },
    {
     "name": "stderr",
     "output_type": "stream",
     "text": [
      "Epoch 27: 100%|██████████████████████████████████| 20/20 [00:00<00:00, 61.93batch/s, accuracy=79, loss=0.000229]\n"
     ]
    },
    {
     "name": "stdout",
     "output_type": "stream",
     "text": [
      "val Loss: 0.0002 Acc: 0.7898\n",
      "\n",
      "Epoch 28/99\n",
      "----------\n"
     ]
    },
    {
     "name": "stderr",
     "output_type": "stream",
     "text": [
      "Epoch 28: 100%|█████████████████████████████████| 50/50 [00:00<00:00, 84.34batch/s, accuracy=80.2, loss=0.00049]\n"
     ]
    },
    {
     "name": "stdout",
     "output_type": "stream",
     "text": [
      "train Loss: 0.0005 Acc: 0.8021\n"
     ]
    },
    {
     "name": "stderr",
     "output_type": "stream",
     "text": [
      "Epoch 28: 100%|████████████████████████████████| 20/20 [00:00<00:00, 62.55batch/s, accuracy=86.8, loss=0.000163]\n"
     ]
    },
    {
     "name": "stdout",
     "output_type": "stream",
     "text": [
      "val Loss: 0.0002 Acc: 0.8681\n",
      "\n",
      "Epoch 29/99\n",
      "----------\n"
     ]
    },
    {
     "name": "stderr",
     "output_type": "stream",
     "text": [
      "Epoch 29: 100%|████████████████████████████████| 50/50 [00:00<00:00, 83.36batch/s, accuracy=80.1, loss=0.000489]\n"
     ]
    },
    {
     "name": "stdout",
     "output_type": "stream",
     "text": [
      "train Loss: 0.0005 Acc: 0.8008\n"
     ]
    },
    {
     "name": "stderr",
     "output_type": "stream",
     "text": [
      "Epoch 29: 100%|████████████████████████████████| 20/20 [00:00<00:00, 60.37batch/s, accuracy=83.6, loss=0.000199]\n"
     ]
    },
    {
     "name": "stdout",
     "output_type": "stream",
     "text": [
      "val Loss: 0.0002 Acc: 0.8360\n",
      "\n",
      "Epoch 30/99\n",
      "----------\n"
     ]
    },
    {
     "name": "stderr",
     "output_type": "stream",
     "text": [
      "Epoch 30: 100%|████████████████████████████████| 50/50 [00:00<00:00, 85.47batch/s, accuracy=81.8, loss=0.000441]\n"
     ]
    },
    {
     "name": "stdout",
     "output_type": "stream",
     "text": [
      "train Loss: 0.0004 Acc: 0.8176\n"
     ]
    },
    {
     "name": "stderr",
     "output_type": "stream",
     "text": [
      "Epoch 30: 100%|████████████████████████████████| 20/20 [00:00<00:00, 63.50batch/s, accuracy=82.8, loss=0.000205]\n"
     ]
    },
    {
     "name": "stdout",
     "output_type": "stream",
     "text": [
      "val Loss: 0.0002 Acc: 0.8284\n",
      "\n",
      "Epoch 31/99\n",
      "----------\n"
     ]
    },
    {
     "name": "stderr",
     "output_type": "stream",
     "text": [
      "Epoch 31: 100%|████████████████████████████████| 50/50 [00:00<00:00, 83.45batch/s, accuracy=82.1, loss=0.000438]\n"
     ]
    },
    {
     "name": "stdout",
     "output_type": "stream",
     "text": [
      "train Loss: 0.0004 Acc: 0.8214\n"
     ]
    },
    {
     "name": "stderr",
     "output_type": "stream",
     "text": [
      "Epoch 31: 100%|████████████████████████████████| 20/20 [00:00<00:00, 62.45batch/s, accuracy=84.9, loss=0.000185]\n"
     ]
    },
    {
     "name": "stdout",
     "output_type": "stream",
     "text": [
      "val Loss: 0.0002 Acc: 0.8492\n",
      "\n",
      "Epoch 32/99\n",
      "----------\n"
     ]
    },
    {
     "name": "stderr",
     "output_type": "stream",
     "text": [
      "Epoch 32: 100%|████████████████████████████████| 50/50 [00:00<00:00, 66.18batch/s, accuracy=84.4, loss=0.000407]\n"
     ]
    },
    {
     "name": "stdout",
     "output_type": "stream",
     "text": [
      "train Loss: 0.0004 Acc: 0.8439\n"
     ]
    },
    {
     "name": "stderr",
     "output_type": "stream",
     "text": [
      "Epoch 32: 100%|██████████████████████████████████| 20/20 [00:00<00:00, 61.54batch/s, accuracy=82, loss=0.000215]\n"
     ]
    },
    {
     "name": "stdout",
     "output_type": "stream",
     "text": [
      "val Loss: 0.0002 Acc: 0.8196\n",
      "\n",
      "Epoch 33/99\n",
      "----------\n"
     ]
    },
    {
     "name": "stderr",
     "output_type": "stream",
     "text": [
      "Epoch 33: 100%|████████████████████████████████| 50/50 [00:00<00:00, 85.11batch/s, accuracy=83.4, loss=0.000462]\n"
     ]
    },
    {
     "name": "stdout",
     "output_type": "stream",
     "text": [
      "train Loss: 0.0005 Acc: 0.8337\n"
     ]
    },
    {
     "name": "stderr",
     "output_type": "stream",
     "text": [
      "Epoch 33: 100%|████████████████████████████████| 20/20 [00:00<00:00, 62.47batch/s, accuracy=81.3, loss=0.000224]\n"
     ]
    },
    {
     "name": "stdout",
     "output_type": "stream",
     "text": [
      "val Loss: 0.0002 Acc: 0.8128\n",
      "\n",
      "Epoch 34/99\n",
      "----------\n"
     ]
    },
    {
     "name": "stderr",
     "output_type": "stream",
     "text": [
      "Epoch 34: 100%|██████████████████████████████████| 50/50 [00:00<00:00, 84.72batch/s, accuracy=81, loss=0.000459]\n"
     ]
    },
    {
     "name": "stdout",
     "output_type": "stream",
     "text": [
      "train Loss: 0.0005 Acc: 0.8095\n"
     ]
    },
    {
     "name": "stderr",
     "output_type": "stream",
     "text": [
      "Epoch 34: 100%|████████████████████████████████| 20/20 [00:00<00:00, 62.38batch/s, accuracy=83.2, loss=0.000201]\n"
     ]
    },
    {
     "name": "stdout",
     "output_type": "stream",
     "text": [
      "val Loss: 0.0002 Acc: 0.8322\n",
      "\n",
      "Epoch 35/99\n",
      "----------\n"
     ]
    },
    {
     "name": "stderr",
     "output_type": "stream",
     "text": [
      "Epoch 35: 100%|████████████████████████████████| 50/50 [00:00<00:00, 85.24batch/s, accuracy=82.4, loss=0.000473]\n"
     ]
    },
    {
     "name": "stdout",
     "output_type": "stream",
     "text": [
      "train Loss: 0.0005 Acc: 0.8236\n"
     ]
    },
    {
     "name": "stderr",
     "output_type": "stream",
     "text": [
      "Epoch 35: 100%|█████████████████████████████████| 20/20 [00:00<00:00, 61.70batch/s, accuracy=79.6, loss=0.00023]\n"
     ]
    },
    {
     "name": "stdout",
     "output_type": "stream",
     "text": [
      "val Loss: 0.0002 Acc: 0.7961\n",
      "\n",
      "Epoch 36/99\n",
      "----------\n"
     ]
    },
    {
     "name": "stderr",
     "output_type": "stream",
     "text": [
      "Epoch 36: 100%|████████████████████████████████| 50/50 [00:00<00:00, 84.63batch/s, accuracy=81.4, loss=0.000463]\n"
     ]
    },
    {
     "name": "stdout",
     "output_type": "stream",
     "text": [
      "train Loss: 0.0005 Acc: 0.8144\n"
     ]
    },
    {
     "name": "stderr",
     "output_type": "stream",
     "text": [
      "Epoch 36: 100%|██████████████████████████████████| 20/20 [00:00<00:00, 62.63batch/s, accuracy=82, loss=0.000209]\n"
     ]
    },
    {
     "name": "stdout",
     "output_type": "stream",
     "text": [
      "val Loss: 0.0002 Acc: 0.8196\n",
      "\n",
      "Epoch 37/99\n",
      "----------\n"
     ]
    },
    {
     "name": "stderr",
     "output_type": "stream",
     "text": [
      "Epoch 37: 100%|████████████████████████████████| 50/50 [00:00<00:00, 83.35batch/s, accuracy=79.7, loss=0.000471]\n"
     ]
    },
    {
     "name": "stdout",
     "output_type": "stream",
     "text": [
      "train Loss: 0.0005 Acc: 0.7975\n"
     ]
    },
    {
     "name": "stderr",
     "output_type": "stream",
     "text": [
      "Epoch 37: 100%|█████████████████████████████████| 20/20 [00:00<00:00, 60.86batch/s, accuracy=82.2, loss=0.00021]\n"
     ]
    },
    {
     "name": "stdout",
     "output_type": "stream",
     "text": [
      "val Loss: 0.0002 Acc: 0.8220\n",
      "\n",
      "Epoch 38/99\n",
      "----------\n"
     ]
    },
    {
     "name": "stderr",
     "output_type": "stream",
     "text": [
      "Epoch 38: 100%|████████████████████████████████| 50/50 [00:00<00:00, 87.62batch/s, accuracy=82.2, loss=0.000463]\n"
     ]
    },
    {
     "name": "stdout",
     "output_type": "stream",
     "text": [
      "train Loss: 0.0005 Acc: 0.8217\n"
     ]
    },
    {
     "name": "stderr",
     "output_type": "stream",
     "text": [
      "Epoch 38: 100%|████████████████████████████████| 20/20 [00:00<00:00, 63.77batch/s, accuracy=81.1, loss=0.000216]\n"
     ]
    },
    {
     "name": "stdout",
     "output_type": "stream",
     "text": [
      "val Loss: 0.0002 Acc: 0.8111\n",
      "\n",
      "Epoch 39/99\n",
      "----------\n"
     ]
    },
    {
     "name": "stderr",
     "output_type": "stream",
     "text": [
      "Epoch 39: 100%|████████████████████████████████| 50/50 [00:00<00:00, 79.75batch/s, accuracy=79.2, loss=0.000487]\n"
     ]
    },
    {
     "name": "stdout",
     "output_type": "stream",
     "text": [
      "train Loss: 0.0005 Acc: 0.7916\n"
     ]
    },
    {
     "name": "stderr",
     "output_type": "stream",
     "text": [
      "Epoch 39: 100%|████████████████████████████████| 20/20 [00:00<00:00, 62.69batch/s, accuracy=84.3, loss=0.000191]\n"
     ]
    },
    {
     "name": "stdout",
     "output_type": "stream",
     "text": [
      "val Loss: 0.0002 Acc: 0.8430\n",
      "\n",
      "Epoch 40/99\n",
      "----------\n"
     ]
    },
    {
     "name": "stderr",
     "output_type": "stream",
     "text": [
      "Epoch 40: 100%|█████████████████████████████████| 50/50 [00:00<00:00, 85.68batch/s, accuracy=79.4, loss=0.00048]\n"
     ]
    },
    {
     "name": "stdout",
     "output_type": "stream",
     "text": [
      "train Loss: 0.0005 Acc: 0.7936\n"
     ]
    },
    {
     "name": "stderr",
     "output_type": "stream",
     "text": [
      "Epoch 40: 100%|████████████████████████████████| 20/20 [00:00<00:00, 62.62batch/s, accuracy=82.8, loss=0.000202]\n"
     ]
    },
    {
     "name": "stdout",
     "output_type": "stream",
     "text": [
      "val Loss: 0.0002 Acc: 0.8278\n",
      "\n",
      "Epoch 41/99\n",
      "----------\n"
     ]
    },
    {
     "name": "stderr",
     "output_type": "stream",
     "text": [
      "Epoch 41: 100%|████████████████████████████████| 50/50 [00:00<00:00, 84.53batch/s, accuracy=84.1, loss=0.000431]\n"
     ]
    },
    {
     "name": "stdout",
     "output_type": "stream",
     "text": [
      "train Loss: 0.0004 Acc: 0.8413\n"
     ]
    },
    {
     "name": "stderr",
     "output_type": "stream",
     "text": [
      "Epoch 41: 100%|████████████████████████████████| 20/20 [00:00<00:00, 59.71batch/s, accuracy=85.2, loss=0.000186]\n"
     ]
    },
    {
     "name": "stdout",
     "output_type": "stream",
     "text": [
      "val Loss: 0.0002 Acc: 0.8519\n",
      "\n",
      "Epoch 42/99\n",
      "----------\n"
     ]
    },
    {
     "name": "stderr",
     "output_type": "stream",
     "text": [
      "Epoch 42: 100%|████████████████████████████████| 50/50 [00:00<00:00, 86.24batch/s, accuracy=81.5, loss=0.000477]\n"
     ]
    },
    {
     "name": "stdout",
     "output_type": "stream",
     "text": [
      "train Loss: 0.0005 Acc: 0.8148\n"
     ]
    },
    {
     "name": "stderr",
     "output_type": "stream",
     "text": [
      "Epoch 42: 100%|████████████████████████████████| 20/20 [00:00<00:00, 64.18batch/s, accuracy=84.7, loss=0.000188]\n"
     ]
    },
    {
     "name": "stdout",
     "output_type": "stream",
     "text": [
      "val Loss: 0.0002 Acc: 0.8471\n",
      "\n",
      "Epoch 43/99\n",
      "----------\n"
     ]
    },
    {
     "name": "stderr",
     "output_type": "stream",
     "text": [
      "Epoch 43: 100%|████████████████████████████████| 50/50 [00:00<00:00, 85.02batch/s, accuracy=84.7, loss=0.000413]\n"
     ]
    },
    {
     "name": "stdout",
     "output_type": "stream",
     "text": [
      "train Loss: 0.0004 Acc: 0.8466\n"
     ]
    },
    {
     "name": "stderr",
     "output_type": "stream",
     "text": [
      "Epoch 43: 100%|████████████████████████████████| 20/20 [00:00<00:00, 60.03batch/s, accuracy=82.2, loss=0.000211]\n"
     ]
    },
    {
     "name": "stdout",
     "output_type": "stream",
     "text": [
      "val Loss: 0.0002 Acc: 0.8225\n",
      "\n",
      "Epoch 44/99\n",
      "----------\n"
     ]
    },
    {
     "name": "stderr",
     "output_type": "stream",
     "text": [
      "Epoch 44: 100%|████████████████████████████████| 50/50 [00:00<00:00, 84.64batch/s, accuracy=81.3, loss=0.000457]\n"
     ]
    },
    {
     "name": "stdout",
     "output_type": "stream",
     "text": [
      "train Loss: 0.0005 Acc: 0.8127\n"
     ]
    },
    {
     "name": "stderr",
     "output_type": "stream",
     "text": [
      "Epoch 44: 100%|████████████████████████████████| 20/20 [00:00<00:00, 62.74batch/s, accuracy=85.4, loss=0.000176]\n"
     ]
    },
    {
     "name": "stdout",
     "output_type": "stream",
     "text": [
      "val Loss: 0.0002 Acc: 0.8536\n",
      "\n",
      "Epoch 45/99\n",
      "----------\n"
     ]
    },
    {
     "name": "stderr",
     "output_type": "stream",
     "text": [
      "Epoch 45: 100%|████████████████████████████████| 50/50 [00:00<00:00, 84.72batch/s, accuracy=83.1, loss=0.000428]\n"
     ]
    },
    {
     "name": "stdout",
     "output_type": "stream",
     "text": [
      "train Loss: 0.0004 Acc: 0.8308\n"
     ]
    },
    {
     "name": "stderr",
     "output_type": "stream",
     "text": [
      "Epoch 45: 100%|██████████████████████████████████| 20/20 [00:00<00:00, 59.44batch/s, accuracy=80, loss=0.000237]\n"
     ]
    },
    {
     "name": "stdout",
     "output_type": "stream",
     "text": [
      "val Loss: 0.0002 Acc: 0.8004\n",
      "\n",
      "Epoch 46/99\n",
      "----------\n"
     ]
    },
    {
     "name": "stderr",
     "output_type": "stream",
     "text": [
      "Epoch 46: 100%|████████████████████████████████| 50/50 [00:00<00:00, 86.30batch/s, accuracy=82.6, loss=0.000445]\n"
     ]
    },
    {
     "name": "stdout",
     "output_type": "stream",
     "text": [
      "train Loss: 0.0004 Acc: 0.8262\n"
     ]
    },
    {
     "name": "stderr",
     "output_type": "stream",
     "text": [
      "Epoch 46: 100%|████████████████████████████████| 20/20 [00:00<00:00, 63.84batch/s, accuracy=85.6, loss=0.000183]\n"
     ]
    },
    {
     "name": "stdout",
     "output_type": "stream",
     "text": [
      "val Loss: 0.0002 Acc: 0.8563\n",
      "\n",
      "Epoch 47/99\n",
      "----------\n"
     ]
    },
    {
     "name": "stderr",
     "output_type": "stream",
     "text": [
      "Epoch 47: 100%|████████████████████████████████| 50/50 [00:00<00:00, 80.14batch/s, accuracy=80.3, loss=0.000484]\n"
     ]
    },
    {
     "name": "stdout",
     "output_type": "stream",
     "text": [
      "train Loss: 0.0005 Acc: 0.8034\n"
     ]
    },
    {
     "name": "stderr",
     "output_type": "stream",
     "text": [
      "Epoch 47: 100%|████████████████████████████████| 20/20 [00:00<00:00, 59.30batch/s, accuracy=81.4, loss=0.000211]\n"
     ]
    },
    {
     "name": "stdout",
     "output_type": "stream",
     "text": [
      "val Loss: 0.0002 Acc: 0.8141\n",
      "\n",
      "Epoch 48/99\n",
      "----------\n"
     ]
    },
    {
     "name": "stderr",
     "output_type": "stream",
     "text": [
      "Epoch 48: 100%|████████████████████████████████| 50/50 [00:00<00:00, 84.50batch/s, accuracy=82.6, loss=0.000437]\n"
     ]
    },
    {
     "name": "stdout",
     "output_type": "stream",
     "text": [
      "train Loss: 0.0004 Acc: 0.8264\n"
     ]
    },
    {
     "name": "stderr",
     "output_type": "stream",
     "text": [
      "Epoch 48: 100%|██████████████████████████████████| 20/20 [00:00<00:00, 60.13batch/s, accuracy=80, loss=0.000222]\n"
     ]
    },
    {
     "name": "stdout",
     "output_type": "stream",
     "text": [
      "val Loss: 0.0002 Acc: 0.8002\n",
      "\n",
      "Epoch 49/99\n",
      "----------\n"
     ]
    },
    {
     "name": "stderr",
     "output_type": "stream",
     "text": [
      "Epoch 49: 100%|█████████████████████████████████| 50/50 [00:00<00:00, 84.16batch/s, accuracy=81.3, loss=0.00047]\n"
     ]
    },
    {
     "name": "stdout",
     "output_type": "stream",
     "text": [
      "train Loss: 0.0005 Acc: 0.8131\n"
     ]
    },
    {
     "name": "stderr",
     "output_type": "stream",
     "text": [
      "Epoch 49: 100%|████████████████████████████████| 20/20 [00:00<00:00, 60.62batch/s, accuracy=84.3, loss=0.000188]\n"
     ]
    },
    {
     "name": "stdout",
     "output_type": "stream",
     "text": [
      "val Loss: 0.0002 Acc: 0.8435\n",
      "\n",
      "Epoch 50/99\n",
      "----------\n"
     ]
    },
    {
     "name": "stderr",
     "output_type": "stream",
     "text": [
      "Epoch 50: 100%|████████████████████████████████| 50/50 [00:00<00:00, 83.17batch/s, accuracy=80.1, loss=0.000486]\n"
     ]
    },
    {
     "name": "stdout",
     "output_type": "stream",
     "text": [
      "train Loss: 0.0005 Acc: 0.8014\n"
     ]
    },
    {
     "name": "stderr",
     "output_type": "stream",
     "text": [
      "Epoch 50: 100%|████████████████████████████████| 20/20 [00:00<00:00, 60.96batch/s, accuracy=77.9, loss=0.000256]\n"
     ]
    },
    {
     "name": "stdout",
     "output_type": "stream",
     "text": [
      "val Loss: 0.0003 Acc: 0.7795\n",
      "\n",
      "Epoch 51/99\n",
      "----------\n"
     ]
    },
    {
     "name": "stderr",
     "output_type": "stream",
     "text": [
      "Epoch 51: 100%|████████████████████████████████| 50/50 [00:00<00:00, 86.51batch/s, accuracy=82.8, loss=0.000446]\n"
     ]
    },
    {
     "name": "stdout",
     "output_type": "stream",
     "text": [
      "train Loss: 0.0004 Acc: 0.8281\n"
     ]
    },
    {
     "name": "stderr",
     "output_type": "stream",
     "text": [
      "Epoch 51: 100%|████████████████████████████████| 20/20 [00:00<00:00, 63.72batch/s, accuracy=83.5, loss=0.000195]\n"
     ]
    },
    {
     "name": "stdout",
     "output_type": "stream",
     "text": [
      "val Loss: 0.0002 Acc: 0.8353\n",
      "\n",
      "Epoch 52/99\n",
      "----------\n"
     ]
    },
    {
     "name": "stderr",
     "output_type": "stream",
     "text": [
      "Epoch 52: 100%|████████████████████████████████| 50/50 [00:00<00:00, 85.64batch/s, accuracy=84.3, loss=0.000418]\n"
     ]
    },
    {
     "name": "stdout",
     "output_type": "stream",
     "text": [
      "train Loss: 0.0004 Acc: 0.8435\n"
     ]
    },
    {
     "name": "stderr",
     "output_type": "stream",
     "text": [
      "Epoch 52: 100%|████████████████████████████████| 20/20 [00:00<00:00, 61.97batch/s, accuracy=86.9, loss=0.000177]\n"
     ]
    },
    {
     "name": "stdout",
     "output_type": "stream",
     "text": [
      "val Loss: 0.0002 Acc: 0.8685\n",
      "\n",
      "Epoch 53/99\n",
      "----------\n"
     ]
    },
    {
     "name": "stderr",
     "output_type": "stream",
     "text": [
      "Epoch 53: 100%|████████████████████████████████| 50/50 [00:00<00:00, 84.11batch/s, accuracy=83.9, loss=0.000414]\n"
     ]
    },
    {
     "name": "stdout",
     "output_type": "stream",
     "text": [
      "train Loss: 0.0004 Acc: 0.8386\n"
     ]
    },
    {
     "name": "stderr",
     "output_type": "stream",
     "text": [
      "Epoch 53: 100%|████████████████████████████████| 20/20 [00:00<00:00, 61.67batch/s, accuracy=84.4, loss=0.000182]\n"
     ]
    },
    {
     "name": "stdout",
     "output_type": "stream",
     "text": [
      "val Loss: 0.0002 Acc: 0.8440\n",
      "\n",
      "Epoch 54/99\n",
      "----------\n"
     ]
    },
    {
     "name": "stderr",
     "output_type": "stream",
     "text": [
      "Epoch 54: 100%|████████████████████████████████| 50/50 [00:00<00:00, 81.74batch/s, accuracy=83.2, loss=0.000424]\n"
     ]
    },
    {
     "name": "stdout",
     "output_type": "stream",
     "text": [
      "train Loss: 0.0004 Acc: 0.8323\n"
     ]
    },
    {
     "name": "stderr",
     "output_type": "stream",
     "text": [
      "Epoch 54: 100%|████████████████████████████████| 20/20 [00:00<00:00, 62.88batch/s, accuracy=79.5, loss=0.000232]\n"
     ]
    },
    {
     "name": "stdout",
     "output_type": "stream",
     "text": [
      "val Loss: 0.0002 Acc: 0.7946\n",
      "\n",
      "Epoch 55/99\n",
      "----------\n"
     ]
    },
    {
     "name": "stderr",
     "output_type": "stream",
     "text": [
      "Epoch 55: 100%|████████████████████████████████| 50/50 [00:00<00:00, 85.30batch/s, accuracy=81.6, loss=0.000458]\n"
     ]
    },
    {
     "name": "stdout",
     "output_type": "stream",
     "text": [
      "train Loss: 0.0005 Acc: 0.8163\n"
     ]
    },
    {
     "name": "stderr",
     "output_type": "stream",
     "text": [
      "Epoch 55: 100%|████████████████████████████████| 20/20 [00:00<00:00, 63.40batch/s, accuracy=82.7, loss=0.000207]\n"
     ]
    },
    {
     "name": "stdout",
     "output_type": "stream",
     "text": [
      "val Loss: 0.0002 Acc: 0.8271\n",
      "\n",
      "Epoch 56/99\n",
      "----------\n"
     ]
    },
    {
     "name": "stderr",
     "output_type": "stream",
     "text": [
      "Epoch 56: 100%|████████████████████████████████| 50/50 [00:00<00:00, 83.28batch/s, accuracy=83.4, loss=0.000421]\n"
     ]
    },
    {
     "name": "stdout",
     "output_type": "stream",
     "text": [
      "train Loss: 0.0004 Acc: 0.8341\n"
     ]
    },
    {
     "name": "stderr",
     "output_type": "stream",
     "text": [
      "Epoch 56: 100%|████████████████████████████████| 20/20 [00:00<00:00, 61.61batch/s, accuracy=80.2, loss=0.000218]\n"
     ]
    },
    {
     "name": "stdout",
     "output_type": "stream",
     "text": [
      "val Loss: 0.0002 Acc: 0.8020\n",
      "\n",
      "Epoch 57/99\n",
      "----------\n"
     ]
    },
    {
     "name": "stderr",
     "output_type": "stream",
     "text": [
      "Epoch 57: 100%|██████████████████████████████████| 50/50 [00:00<00:00, 83.67batch/s, accuracy=81, loss=0.000462]\n"
     ]
    },
    {
     "name": "stdout",
     "output_type": "stream",
     "text": [
      "train Loss: 0.0005 Acc: 0.8101\n"
     ]
    },
    {
     "name": "stderr",
     "output_type": "stream",
     "text": [
      "Epoch 57: 100%|████████████████████████████████| 20/20 [00:00<00:00, 62.56batch/s, accuracy=80.9, loss=0.000214]\n"
     ]
    },
    {
     "name": "stdout",
     "output_type": "stream",
     "text": [
      "val Loss: 0.0002 Acc: 0.8093\n",
      "\n",
      "Epoch 58/99\n",
      "----------\n"
     ]
    },
    {
     "name": "stderr",
     "output_type": "stream",
     "text": [
      "Epoch 58: 100%|████████████████████████████████| 50/50 [00:00<00:00, 85.74batch/s, accuracy=80.2, loss=0.000487]\n"
     ]
    },
    {
     "name": "stdout",
     "output_type": "stream",
     "text": [
      "train Loss: 0.0005 Acc: 0.8021\n"
     ]
    },
    {
     "name": "stderr",
     "output_type": "stream",
     "text": [
      "Epoch 58: 100%|████████████████████████████████| 20/20 [00:00<00:00, 62.48batch/s, accuracy=78.2, loss=0.000238]\n"
     ]
    },
    {
     "name": "stdout",
     "output_type": "stream",
     "text": [
      "val Loss: 0.0002 Acc: 0.7819\n",
      "\n",
      "Epoch 59/99\n",
      "----------\n"
     ]
    },
    {
     "name": "stderr",
     "output_type": "stream",
     "text": [
      "Epoch 59: 100%|██████████████████████████████████| 50/50 [00:00<00:00, 83.99batch/s, accuracy=80, loss=0.000481]\n"
     ]
    },
    {
     "name": "stdout",
     "output_type": "stream",
     "text": [
      "train Loss: 0.0005 Acc: 0.7996\n"
     ]
    },
    {
     "name": "stderr",
     "output_type": "stream",
     "text": [
      "Epoch 59: 100%|████████████████████████████████| 20/20 [00:00<00:00, 61.77batch/s, accuracy=81.8, loss=0.000203]\n"
     ]
    },
    {
     "name": "stdout",
     "output_type": "stream",
     "text": [
      "val Loss: 0.0002 Acc: 0.8176\n",
      "\n",
      "Epoch 60/99\n",
      "----------\n"
     ]
    },
    {
     "name": "stderr",
     "output_type": "stream",
     "text": [
      "Epoch 60: 100%|█████████████████████████████████| 50/50 [00:00<00:00, 83.09batch/s, accuracy=83.2, loss=0.00044]\n"
     ]
    },
    {
     "name": "stdout",
     "output_type": "stream",
     "text": [
      "train Loss: 0.0004 Acc: 0.8315\n"
     ]
    },
    {
     "name": "stderr",
     "output_type": "stream",
     "text": [
      "Epoch 60: 100%|████████████████████████████████| 20/20 [00:00<00:00, 60.75batch/s, accuracy=81.5, loss=0.000227]\n"
     ]
    },
    {
     "name": "stdout",
     "output_type": "stream",
     "text": [
      "val Loss: 0.0002 Acc: 0.8150\n",
      "\n",
      "Epoch 61/99\n",
      "----------\n"
     ]
    },
    {
     "name": "stderr",
     "output_type": "stream",
     "text": [
      "Epoch 61: 100%|████████████████████████████████| 50/50 [00:00<00:00, 86.10batch/s, accuracy=83.4, loss=0.000438]\n"
     ]
    },
    {
     "name": "stdout",
     "output_type": "stream",
     "text": [
      "train Loss: 0.0004 Acc: 0.8337\n"
     ]
    },
    {
     "name": "stderr",
     "output_type": "stream",
     "text": [
      "Epoch 61: 100%|████████████████████████████████| 20/20 [00:00<00:00, 63.56batch/s, accuracy=81.4, loss=0.000211]\n"
     ]
    },
    {
     "name": "stdout",
     "output_type": "stream",
     "text": [
      "val Loss: 0.0002 Acc: 0.8138\n",
      "\n",
      "Epoch 62/99\n",
      "----------\n"
     ]
    },
    {
     "name": "stderr",
     "output_type": "stream",
     "text": [
      "Epoch 62: 100%|████████████████████████████████| 50/50 [00:00<00:00, 84.92batch/s, accuracy=84.3, loss=0.000407]\n"
     ]
    },
    {
     "name": "stdout",
     "output_type": "stream",
     "text": [
      "train Loss: 0.0004 Acc: 0.8431\n"
     ]
    },
    {
     "name": "stderr",
     "output_type": "stream",
     "text": [
      "Epoch 62: 100%|████████████████████████████████| 20/20 [00:00<00:00, 62.36batch/s, accuracy=84.8, loss=0.000197]\n"
     ]
    },
    {
     "name": "stdout",
     "output_type": "stream",
     "text": [
      "val Loss: 0.0002 Acc: 0.8479\n",
      "\n",
      "Epoch 63/99\n",
      "----------\n"
     ]
    },
    {
     "name": "stderr",
     "output_type": "stream",
     "text": [
      "Epoch 63: 100%|████████████████████████████████| 50/50 [00:00<00:00, 84.18batch/s, accuracy=82.8, loss=0.000437]\n"
     ]
    },
    {
     "name": "stdout",
     "output_type": "stream",
     "text": [
      "train Loss: 0.0004 Acc: 0.8278\n"
     ]
    },
    {
     "name": "stderr",
     "output_type": "stream",
     "text": [
      "Epoch 63: 100%|████████████████████████████████| 20/20 [00:00<00:00, 60.73batch/s, accuracy=82.8, loss=0.000201]\n"
     ]
    },
    {
     "name": "stdout",
     "output_type": "stream",
     "text": [
      "val Loss: 0.0002 Acc: 0.8279\n",
      "\n",
      "Epoch 64/99\n",
      "----------\n"
     ]
    },
    {
     "name": "stderr",
     "output_type": "stream",
     "text": [
      "Epoch 64: 100%|████████████████████████████████| 50/50 [00:00<00:00, 85.59batch/s, accuracy=83.3, loss=0.000431]\n"
     ]
    },
    {
     "name": "stdout",
     "output_type": "stream",
     "text": [
      "train Loss: 0.0004 Acc: 0.8334\n"
     ]
    },
    {
     "name": "stderr",
     "output_type": "stream",
     "text": [
      "Epoch 64: 100%|████████████████████████████████| 20/20 [00:00<00:00, 62.69batch/s, accuracy=81.2, loss=0.000219]\n"
     ]
    },
    {
     "name": "stdout",
     "output_type": "stream",
     "text": [
      "val Loss: 0.0002 Acc: 0.8118\n",
      "\n",
      "Epoch 65/99\n",
      "----------\n"
     ]
    },
    {
     "name": "stderr",
     "output_type": "stream",
     "text": [
      "Epoch 65: 100%|████████████████████████████████| 50/50 [00:00<00:00, 85.16batch/s, accuracy=81.6, loss=0.000456]\n"
     ]
    },
    {
     "name": "stdout",
     "output_type": "stream",
     "text": [
      "train Loss: 0.0005 Acc: 0.8165\n"
     ]
    },
    {
     "name": "stderr",
     "output_type": "stream",
     "text": [
      "Epoch 65: 100%|████████████████████████████████| 20/20 [00:00<00:00, 63.67batch/s, accuracy=82.3, loss=0.000204]\n"
     ]
    },
    {
     "name": "stdout",
     "output_type": "stream",
     "text": [
      "val Loss: 0.0002 Acc: 0.8225\n",
      "\n",
      "Epoch 66/99\n",
      "----------\n"
     ]
    },
    {
     "name": "stderr",
     "output_type": "stream",
     "text": [
      "Epoch 66: 100%|████████████████████████████████| 50/50 [00:00<00:00, 83.24batch/s, accuracy=79.7, loss=0.000491]\n"
     ]
    },
    {
     "name": "stdout",
     "output_type": "stream",
     "text": [
      "train Loss: 0.0005 Acc: 0.7972\n"
     ]
    },
    {
     "name": "stderr",
     "output_type": "stream",
     "text": [
      "Epoch 66: 100%|████████████████████████████████| 20/20 [00:00<00:00, 64.17batch/s, accuracy=78.6, loss=0.000236]\n"
     ]
    },
    {
     "name": "stdout",
     "output_type": "stream",
     "text": [
      "val Loss: 0.0002 Acc: 0.7857\n",
      "\n",
      "Epoch 67/99\n",
      "----------\n"
     ]
    },
    {
     "name": "stderr",
     "output_type": "stream",
     "text": [
      "Epoch 67: 100%|████████████████████████████████| 50/50 [00:00<00:00, 83.03batch/s, accuracy=83.7, loss=0.000417]\n"
     ]
    },
    {
     "name": "stdout",
     "output_type": "stream",
     "text": [
      "train Loss: 0.0004 Acc: 0.8369\n"
     ]
    },
    {
     "name": "stderr",
     "output_type": "stream",
     "text": [
      "Epoch 67: 100%|██████████████████████████████████| 20/20 [00:00<00:00, 61.74batch/s, accuracy=78, loss=0.000247]\n"
     ]
    },
    {
     "name": "stdout",
     "output_type": "stream",
     "text": [
      "val Loss: 0.0002 Acc: 0.7805\n",
      "\n",
      "Epoch 68/99\n",
      "----------\n"
     ]
    },
    {
     "name": "stderr",
     "output_type": "stream",
     "text": [
      "Epoch 68: 100%|██████████████████████████████████| 50/50 [00:00<00:00, 83.20batch/s, accuracy=80, loss=0.000475]\n"
     ]
    },
    {
     "name": "stdout",
     "output_type": "stream",
     "text": [
      "train Loss: 0.0005 Acc: 0.8000\n"
     ]
    },
    {
     "name": "stderr",
     "output_type": "stream",
     "text": [
      "Epoch 68: 100%|████████████████████████████████| 20/20 [00:00<00:00, 60.36batch/s, accuracy=82.2, loss=0.000208]\n"
     ]
    },
    {
     "name": "stdout",
     "output_type": "stream",
     "text": [
      "val Loss: 0.0002 Acc: 0.8217\n",
      "\n",
      "Epoch 69/99\n",
      "----------\n"
     ]
    },
    {
     "name": "stderr",
     "output_type": "stream",
     "text": [
      "Epoch 69: 100%|██████████████████████████████████| 50/50 [00:00<00:00, 83.25batch/s, accuracy=80, loss=0.000503]\n"
     ]
    },
    {
     "name": "stdout",
     "output_type": "stream",
     "text": [
      "train Loss: 0.0005 Acc: 0.7998\n"
     ]
    },
    {
     "name": "stderr",
     "output_type": "stream",
     "text": [
      "Epoch 69: 100%|████████████████████████████████| 20/20 [00:00<00:00, 60.89batch/s, accuracy=82.3, loss=0.000207]\n"
     ]
    },
    {
     "name": "stdout",
     "output_type": "stream",
     "text": [
      "val Loss: 0.0002 Acc: 0.8227\n",
      "\n",
      "Epoch 70/99\n",
      "----------\n"
     ]
    },
    {
     "name": "stderr",
     "output_type": "stream",
     "text": [
      "Epoch 70: 100%|████████████████████████████████| 50/50 [00:00<00:00, 82.77batch/s, accuracy=80.3, loss=0.000493]\n"
     ]
    },
    {
     "name": "stdout",
     "output_type": "stream",
     "text": [
      "train Loss: 0.0005 Acc: 0.8032\n"
     ]
    },
    {
     "name": "stderr",
     "output_type": "stream",
     "text": [
      "Epoch 70: 100%|████████████████████████████████| 20/20 [00:00<00:00, 63.65batch/s, accuracy=84.2, loss=0.000195]\n"
     ]
    },
    {
     "name": "stdout",
     "output_type": "stream",
     "text": [
      "val Loss: 0.0002 Acc: 0.8417\n",
      "\n",
      "Epoch 71/99\n",
      "----------\n"
     ]
    },
    {
     "name": "stderr",
     "output_type": "stream",
     "text": [
      "Epoch 71: 100%|████████████████████████████████| 50/50 [00:00<00:00, 83.81batch/s, accuracy=80.2, loss=0.000472]\n"
     ]
    },
    {
     "name": "stdout",
     "output_type": "stream",
     "text": [
      "train Loss: 0.0005 Acc: 0.8018\n"
     ]
    },
    {
     "name": "stderr",
     "output_type": "stream",
     "text": [
      "Epoch 71: 100%|████████████████████████████████| 20/20 [00:00<00:00, 61.33batch/s, accuracy=83.2, loss=0.000199]\n"
     ]
    },
    {
     "name": "stdout",
     "output_type": "stream",
     "text": [
      "val Loss: 0.0002 Acc: 0.8319\n",
      "\n",
      "Epoch 72/99\n",
      "----------\n"
     ]
    },
    {
     "name": "stderr",
     "output_type": "stream",
     "text": [
      "Epoch 72: 100%|████████████████████████████████| 50/50 [00:00<00:00, 84.32batch/s, accuracy=81.5, loss=0.000457]\n"
     ]
    },
    {
     "name": "stdout",
     "output_type": "stream",
     "text": [
      "train Loss: 0.0005 Acc: 0.8147\n"
     ]
    },
    {
     "name": "stderr",
     "output_type": "stream",
     "text": [
      "Epoch 72: 100%|████████████████████████████████| 20/20 [00:00<00:00, 62.40batch/s, accuracy=83.7, loss=0.000205]\n"
     ]
    },
    {
     "name": "stdout",
     "output_type": "stream",
     "text": [
      "val Loss: 0.0002 Acc: 0.8366\n",
      "\n",
      "Epoch 73/99\n",
      "----------\n"
     ]
    },
    {
     "name": "stderr",
     "output_type": "stream",
     "text": [
      "Epoch 73: 100%|████████████████████████████████| 50/50 [00:00<00:00, 85.02batch/s, accuracy=80.2, loss=0.000494]\n"
     ]
    },
    {
     "name": "stdout",
     "output_type": "stream",
     "text": [
      "train Loss: 0.0005 Acc: 0.8019\n"
     ]
    },
    {
     "name": "stderr",
     "output_type": "stream",
     "text": [
      "Epoch 73: 100%|██████████████████████████████████| 20/20 [00:00<00:00, 61.96batch/s, accuracy=85, loss=0.000183]\n"
     ]
    },
    {
     "name": "stdout",
     "output_type": "stream",
     "text": [
      "val Loss: 0.0002 Acc: 0.8500\n",
      "\n",
      "Epoch 74/99\n",
      "----------\n"
     ]
    },
    {
     "name": "stderr",
     "output_type": "stream",
     "text": [
      "Epoch 74: 100%|████████████████████████████████| 50/50 [00:00<00:00, 82.48batch/s, accuracy=81.1, loss=0.000479]\n"
     ]
    },
    {
     "name": "stdout",
     "output_type": "stream",
     "text": [
      "train Loss: 0.0005 Acc: 0.8108\n"
     ]
    },
    {
     "name": "stderr",
     "output_type": "stream",
     "text": [
      "Epoch 74: 100%|██████████████████████████████████| 20/20 [00:00<00:00, 61.59batch/s, accuracy=81, loss=0.000214]\n"
     ]
    },
    {
     "name": "stdout",
     "output_type": "stream",
     "text": [
      "val Loss: 0.0002 Acc: 0.8103\n",
      "\n",
      "Epoch 75/99\n",
      "----------\n"
     ]
    },
    {
     "name": "stderr",
     "output_type": "stream",
     "text": [
      "Epoch 75: 100%|████████████████████████████████| 50/50 [00:00<00:00, 86.24batch/s, accuracy=81.5, loss=0.000469]\n"
     ]
    },
    {
     "name": "stdout",
     "output_type": "stream",
     "text": [
      "train Loss: 0.0005 Acc: 0.8149\n"
     ]
    },
    {
     "name": "stderr",
     "output_type": "stream",
     "text": [
      "Epoch 75: 100%|████████████████████████████████| 20/20 [00:00<00:00, 59.60batch/s, accuracy=79.5, loss=0.000242]\n"
     ]
    },
    {
     "name": "stdout",
     "output_type": "stream",
     "text": [
      "val Loss: 0.0002 Acc: 0.7952\n",
      "\n",
      "Epoch 76/99\n",
      "----------\n"
     ]
    },
    {
     "name": "stderr",
     "output_type": "stream",
     "text": [
      "Epoch 76: 100%|████████████████████████████████| 50/50 [00:00<00:00, 70.19batch/s, accuracy=81.7, loss=0.000455]\n"
     ]
    },
    {
     "name": "stdout",
     "output_type": "stream",
     "text": [
      "train Loss: 0.0005 Acc: 0.8167\n"
     ]
    },
    {
     "name": "stderr",
     "output_type": "stream",
     "text": [
      "Epoch 76: 100%|████████████████████████████████| 20/20 [00:00<00:00, 52.25batch/s, accuracy=80.1, loss=0.000219]\n"
     ]
    },
    {
     "name": "stdout",
     "output_type": "stream",
     "text": [
      "val Loss: 0.0002 Acc: 0.8012\n",
      "\n",
      "Epoch 77/99\n",
      "----------\n"
     ]
    },
    {
     "name": "stderr",
     "output_type": "stream",
     "text": [
      "Epoch 77: 100%|████████████████████████████████| 50/50 [00:00<00:00, 74.15batch/s, accuracy=80.7, loss=0.000479]\n"
     ]
    },
    {
     "name": "stdout",
     "output_type": "stream",
     "text": [
      "train Loss: 0.0005 Acc: 0.8072\n"
     ]
    },
    {
     "name": "stderr",
     "output_type": "stream",
     "text": [
      "Epoch 77: 100%|██████████████████████████████████| 20/20 [00:00<00:00, 54.20batch/s, accuracy=85, loss=0.000189]\n"
     ]
    },
    {
     "name": "stdout",
     "output_type": "stream",
     "text": [
      "val Loss: 0.0002 Acc: 0.8505\n",
      "\n",
      "Epoch 78/99\n",
      "----------\n"
     ]
    },
    {
     "name": "stderr",
     "output_type": "stream",
     "text": [
      "Epoch 78: 100%|████████████████████████████████| 50/50 [00:00<00:00, 84.56batch/s, accuracy=84.3, loss=0.000397]\n"
     ]
    },
    {
     "name": "stdout",
     "output_type": "stream",
     "text": [
      "train Loss: 0.0004 Acc: 0.8425\n"
     ]
    },
    {
     "name": "stderr",
     "output_type": "stream",
     "text": [
      "Epoch 78: 100%|████████████████████████████████| 20/20 [00:00<00:00, 62.23batch/s, accuracy=84.8, loss=0.000173]\n"
     ]
    },
    {
     "name": "stdout",
     "output_type": "stream",
     "text": [
      "val Loss: 0.0002 Acc: 0.8481\n",
      "\n",
      "Epoch 79/99\n",
      "----------\n"
     ]
    },
    {
     "name": "stderr",
     "output_type": "stream",
     "text": [
      "Epoch 79: 100%|████████████████████████████████| 50/50 [00:00<00:00, 84.05batch/s, accuracy=80.6, loss=0.000473]\n"
     ]
    },
    {
     "name": "stdout",
     "output_type": "stream",
     "text": [
      "train Loss: 0.0005 Acc: 0.8061\n"
     ]
    },
    {
     "name": "stderr",
     "output_type": "stream",
     "text": [
      "Epoch 79: 100%|████████████████████████████████| 20/20 [00:00<00:00, 61.52batch/s, accuracy=75.4, loss=0.000262]\n"
     ]
    },
    {
     "name": "stdout",
     "output_type": "stream",
     "text": [
      "val Loss: 0.0003 Acc: 0.7543\n",
      "\n",
      "Epoch 80/99\n",
      "----------\n"
     ]
    },
    {
     "name": "stderr",
     "output_type": "stream",
     "text": [
      "Epoch 80: 100%|████████████████████████████████| 50/50 [00:00<00:00, 84.59batch/s, accuracy=79.6, loss=0.000488]\n"
     ]
    },
    {
     "name": "stdout",
     "output_type": "stream",
     "text": [
      "train Loss: 0.0005 Acc: 0.7958\n"
     ]
    },
    {
     "name": "stderr",
     "output_type": "stream",
     "text": [
      "Epoch 80: 100%|████████████████████████████████| 20/20 [00:00<00:00, 60.91batch/s, accuracy=77.4, loss=0.000249]\n"
     ]
    },
    {
     "name": "stdout",
     "output_type": "stream",
     "text": [
      "val Loss: 0.0002 Acc: 0.7736\n",
      "\n",
      "Epoch 81/99\n",
      "----------\n"
     ]
    },
    {
     "name": "stderr",
     "output_type": "stream",
     "text": [
      "Epoch 81: 100%|████████████████████████████████| 50/50 [00:00<00:00, 84.89batch/s, accuracy=81.4, loss=0.000476]\n"
     ]
    },
    {
     "name": "stdout",
     "output_type": "stream",
     "text": [
      "train Loss: 0.0005 Acc: 0.8139\n"
     ]
    },
    {
     "name": "stderr",
     "output_type": "stream",
     "text": [
      "Epoch 81: 100%|████████████████████████████████| 20/20 [00:00<00:00, 63.04batch/s, accuracy=81.3, loss=0.000215]\n"
     ]
    },
    {
     "name": "stdout",
     "output_type": "stream",
     "text": [
      "val Loss: 0.0002 Acc: 0.8125\n",
      "\n",
      "Epoch 82/99\n",
      "----------\n"
     ]
    },
    {
     "name": "stderr",
     "output_type": "stream",
     "text": [
      "Epoch 82: 100%|████████████████████████████████| 50/50 [00:00<00:00, 84.08batch/s, accuracy=82.5, loss=0.000454]\n"
     ]
    },
    {
     "name": "stdout",
     "output_type": "stream",
     "text": [
      "train Loss: 0.0005 Acc: 0.8249\n"
     ]
    },
    {
     "name": "stderr",
     "output_type": "stream",
     "text": [
      "Epoch 82: 100%|████████████████████████████████| 20/20 [00:00<00:00, 63.62batch/s, accuracy=79.9, loss=0.000229]\n"
     ]
    },
    {
     "name": "stdout",
     "output_type": "stream",
     "text": [
      "val Loss: 0.0002 Acc: 0.7989\n",
      "\n",
      "Epoch 83/99\n",
      "----------\n"
     ]
    },
    {
     "name": "stderr",
     "output_type": "stream",
     "text": [
      "Epoch 83: 100%|██████████████████████████████████| 50/50 [00:00<00:00, 83.15batch/s, accuracy=81, loss=0.000477]\n"
     ]
    },
    {
     "name": "stdout",
     "output_type": "stream",
     "text": [
      "train Loss: 0.0005 Acc: 0.8100\n"
     ]
    },
    {
     "name": "stderr",
     "output_type": "stream",
     "text": [
      "Epoch 83: 100%|████████████████████████████████| 20/20 [00:00<00:00, 63.97batch/s, accuracy=80.3, loss=0.000219]\n"
     ]
    },
    {
     "name": "stdout",
     "output_type": "stream",
     "text": [
      "val Loss: 0.0002 Acc: 0.8030\n",
      "\n",
      "Epoch 84/99\n",
      "----------\n"
     ]
    },
    {
     "name": "stderr",
     "output_type": "stream",
     "text": [
      "Epoch 84: 100%|████████████████████████████████| 50/50 [00:00<00:00, 83.04batch/s, accuracy=81.3, loss=0.000445]\n"
     ]
    },
    {
     "name": "stdout",
     "output_type": "stream",
     "text": [
      "train Loss: 0.0004 Acc: 0.8132\n"
     ]
    },
    {
     "name": "stderr",
     "output_type": "stream",
     "text": [
      "Epoch 84: 100%|████████████████████████████████| 20/20 [00:00<00:00, 62.12batch/s, accuracy=83.1, loss=0.000199]\n"
     ]
    },
    {
     "name": "stdout",
     "output_type": "stream",
     "text": [
      "val Loss: 0.0002 Acc: 0.8314\n",
      "\n",
      "Epoch 85/99\n",
      "----------\n"
     ]
    },
    {
     "name": "stderr",
     "output_type": "stream",
     "text": [
      "Epoch 85: 100%|████████████████████████████████| 50/50 [00:00<00:00, 84.07batch/s, accuracy=82.6, loss=0.000438]\n"
     ]
    },
    {
     "name": "stdout",
     "output_type": "stream",
     "text": [
      "train Loss: 0.0004 Acc: 0.8264\n"
     ]
    },
    {
     "name": "stderr",
     "output_type": "stream",
     "text": [
      "Epoch 85: 100%|████████████████████████████████| 20/20 [00:00<00:00, 60.74batch/s, accuracy=83.9, loss=0.000195]\n"
     ]
    },
    {
     "name": "stdout",
     "output_type": "stream",
     "text": [
      "val Loss: 0.0002 Acc: 0.8391\n",
      "\n",
      "Epoch 86/99\n",
      "----------\n"
     ]
    },
    {
     "name": "stderr",
     "output_type": "stream",
     "text": [
      "Epoch 86: 100%|████████████████████████████████| 50/50 [00:00<00:00, 83.98batch/s, accuracy=84.7, loss=0.000425]\n"
     ]
    },
    {
     "name": "stdout",
     "output_type": "stream",
     "text": [
      "train Loss: 0.0004 Acc: 0.8472\n"
     ]
    },
    {
     "name": "stderr",
     "output_type": "stream",
     "text": [
      "Epoch 86: 100%|████████████████████████████████| 20/20 [00:00<00:00, 62.39batch/s, accuracy=83.7, loss=0.000196]\n"
     ]
    },
    {
     "name": "stdout",
     "output_type": "stream",
     "text": [
      "val Loss: 0.0002 Acc: 0.8374\n",
      "\n",
      "Epoch 87/99\n",
      "----------\n"
     ]
    },
    {
     "name": "stderr",
     "output_type": "stream",
     "text": [
      "Epoch 87: 100%|████████████████████████████████| 50/50 [00:00<00:00, 82.28batch/s, accuracy=80.9, loss=0.000459]\n"
     ]
    },
    {
     "name": "stdout",
     "output_type": "stream",
     "text": [
      "train Loss: 0.0005 Acc: 0.8090\n"
     ]
    },
    {
     "name": "stderr",
     "output_type": "stream",
     "text": [
      "Epoch 87: 100%|████████████████████████████████| 20/20 [00:00<00:00, 61.23batch/s, accuracy=79.4, loss=0.000215]\n"
     ]
    },
    {
     "name": "stdout",
     "output_type": "stream",
     "text": [
      "val Loss: 0.0002 Acc: 0.7944\n",
      "\n",
      "Epoch 88/99\n",
      "----------\n"
     ]
    },
    {
     "name": "stderr",
     "output_type": "stream",
     "text": [
      "Epoch 88: 100%|████████████████████████████████| 50/50 [00:00<00:00, 83.34batch/s, accuracy=81.6, loss=0.000471]\n"
     ]
    },
    {
     "name": "stdout",
     "output_type": "stream",
     "text": [
      "train Loss: 0.0005 Acc: 0.8161\n"
     ]
    },
    {
     "name": "stderr",
     "output_type": "stream",
     "text": [
      "Epoch 88: 100%|████████████████████████████████| 20/20 [00:00<00:00, 60.39batch/s, accuracy=81.5, loss=0.000209]\n"
     ]
    },
    {
     "name": "stdout",
     "output_type": "stream",
     "text": [
      "val Loss: 0.0002 Acc: 0.8152\n",
      "\n",
      "Epoch 89/99\n",
      "----------\n"
     ]
    },
    {
     "name": "stderr",
     "output_type": "stream",
     "text": [
      "Epoch 89: 100%|████████████████████████████████| 50/50 [00:00<00:00, 84.31batch/s, accuracy=83.3, loss=0.000429]\n"
     ]
    },
    {
     "name": "stdout",
     "output_type": "stream",
     "text": [
      "train Loss: 0.0004 Acc: 0.8326\n"
     ]
    },
    {
     "name": "stderr",
     "output_type": "stream",
     "text": [
      "Epoch 89: 100%|████████████████████████████████| 20/20 [00:00<00:00, 62.31batch/s, accuracy=82.6, loss=0.000207]\n"
     ]
    },
    {
     "name": "stdout",
     "output_type": "stream",
     "text": [
      "val Loss: 0.0002 Acc: 0.8258\n",
      "\n",
      "Epoch 90/99\n",
      "----------\n"
     ]
    },
    {
     "name": "stderr",
     "output_type": "stream",
     "text": [
      "Epoch 90: 100%|████████████████████████████████| 50/50 [00:00<00:00, 84.31batch/s, accuracy=81.1, loss=0.000468]\n"
     ]
    },
    {
     "name": "stdout",
     "output_type": "stream",
     "text": [
      "train Loss: 0.0005 Acc: 0.8114\n"
     ]
    },
    {
     "name": "stderr",
     "output_type": "stream",
     "text": [
      "Epoch 90: 100%|█████████████████████████████████| 20/20 [00:00<00:00, 60.27batch/s, accuracy=79.8, loss=0.00023]\n"
     ]
    },
    {
     "name": "stdout",
     "output_type": "stream",
     "text": [
      "val Loss: 0.0002 Acc: 0.7981\n",
      "\n",
      "Epoch 91/99\n",
      "----------\n"
     ]
    },
    {
     "name": "stderr",
     "output_type": "stream",
     "text": [
      "Epoch 91: 100%|████████████████████████████████| 50/50 [00:00<00:00, 83.32batch/s, accuracy=83.1, loss=0.000434]\n"
     ]
    },
    {
     "name": "stdout",
     "output_type": "stream",
     "text": [
      "train Loss: 0.0004 Acc: 0.8312\n"
     ]
    },
    {
     "name": "stderr",
     "output_type": "stream",
     "text": [
      "Epoch 91: 100%|████████████████████████████████| 20/20 [00:00<00:00, 61.08batch/s, accuracy=82.8, loss=0.000202]\n"
     ]
    },
    {
     "name": "stdout",
     "output_type": "stream",
     "text": [
      "val Loss: 0.0002 Acc: 0.8277\n",
      "\n",
      "Epoch 92/99\n",
      "----------\n"
     ]
    },
    {
     "name": "stderr",
     "output_type": "stream",
     "text": [
      "Epoch 92: 100%|██████████████████████████████████| 50/50 [00:00<00:00, 84.05batch/s, accuracy=84, loss=0.000429]\n"
     ]
    },
    {
     "name": "stdout",
     "output_type": "stream",
     "text": [
      "train Loss: 0.0004 Acc: 0.8403\n"
     ]
    },
    {
     "name": "stderr",
     "output_type": "stream",
     "text": [
      "Epoch 92: 100%|████████████████████████████████| 20/20 [00:00<00:00, 64.07batch/s, accuracy=83.1, loss=0.000209]\n"
     ]
    },
    {
     "name": "stdout",
     "output_type": "stream",
     "text": [
      "val Loss: 0.0002 Acc: 0.8309\n",
      "\n",
      "Epoch 93/99\n",
      "----------\n"
     ]
    },
    {
     "name": "stderr",
     "output_type": "stream",
     "text": [
      "Epoch 93: 100%|████████████████████████████████| 50/50 [00:00<00:00, 83.03batch/s, accuracy=80.5, loss=0.000459]\n"
     ]
    },
    {
     "name": "stdout",
     "output_type": "stream",
     "text": [
      "train Loss: 0.0005 Acc: 0.8053\n"
     ]
    },
    {
     "name": "stderr",
     "output_type": "stream",
     "text": [
      "Epoch 93: 100%|████████████████████████████████| 20/20 [00:00<00:00, 62.13batch/s, accuracy=82.8, loss=0.000204]\n"
     ]
    },
    {
     "name": "stdout",
     "output_type": "stream",
     "text": [
      "val Loss: 0.0002 Acc: 0.8277\n",
      "\n",
      "Epoch 94/99\n",
      "----------\n"
     ]
    },
    {
     "name": "stderr",
     "output_type": "stream",
     "text": [
      "Epoch 94: 100%|████████████████████████████████| 50/50 [00:00<00:00, 85.56batch/s, accuracy=83.4, loss=0.000415]\n"
     ]
    },
    {
     "name": "stdout",
     "output_type": "stream",
     "text": [
      "train Loss: 0.0004 Acc: 0.8338\n"
     ]
    },
    {
     "name": "stderr",
     "output_type": "stream",
     "text": [
      "Epoch 94: 100%|████████████████████████████████| 20/20 [00:00<00:00, 62.13batch/s, accuracy=84.1, loss=0.000196]\n"
     ]
    },
    {
     "name": "stdout",
     "output_type": "stream",
     "text": [
      "val Loss: 0.0002 Acc: 0.8406\n",
      "\n",
      "Epoch 95/99\n",
      "----------\n"
     ]
    },
    {
     "name": "stderr",
     "output_type": "stream",
     "text": [
      "Epoch 95: 100%|████████████████████████████████| 50/50 [00:00<00:00, 84.43batch/s, accuracy=81.7, loss=0.000445]\n"
     ]
    },
    {
     "name": "stdout",
     "output_type": "stream",
     "text": [
      "train Loss: 0.0004 Acc: 0.8169\n"
     ]
    },
    {
     "name": "stderr",
     "output_type": "stream",
     "text": [
      "Epoch 95: 100%|██████████████████████████████████| 20/20 [00:00<00:00, 63.32batch/s, accuracy=79, loss=0.000234]\n"
     ]
    },
    {
     "name": "stdout",
     "output_type": "stream",
     "text": [
      "val Loss: 0.0002 Acc: 0.7902\n",
      "\n",
      "Epoch 96/99\n",
      "----------\n"
     ]
    },
    {
     "name": "stderr",
     "output_type": "stream",
     "text": [
      "Epoch 96: 100%|████████████████████████████████| 50/50 [00:00<00:00, 65.19batch/s, accuracy=80.7, loss=0.000457]\n"
     ]
    },
    {
     "name": "stdout",
     "output_type": "stream",
     "text": [
      "train Loss: 0.0005 Acc: 0.8075\n"
     ]
    },
    {
     "name": "stderr",
     "output_type": "stream",
     "text": [
      "Epoch 96: 100%|████████████████████████████████| 20/20 [00:00<00:00, 60.27batch/s, accuracy=82.6, loss=0.000197]\n"
     ]
    },
    {
     "name": "stdout",
     "output_type": "stream",
     "text": [
      "val Loss: 0.0002 Acc: 0.8260\n",
      "\n",
      "Epoch 97/99\n",
      "----------\n"
     ]
    },
    {
     "name": "stderr",
     "output_type": "stream",
     "text": [
      "Epoch 97: 100%|████████████████████████████████| 50/50 [00:00<00:00, 82.69batch/s, accuracy=83.1, loss=0.000425]\n"
     ]
    },
    {
     "name": "stdout",
     "output_type": "stream",
     "text": [
      "train Loss: 0.0004 Acc: 0.8309\n"
     ]
    },
    {
     "name": "stderr",
     "output_type": "stream",
     "text": [
      "Epoch 97: 100%|███████████████████████████████████| 20/20 [00:00<00:00, 60.14batch/s, accuracy=81, loss=0.00022]\n"
     ]
    },
    {
     "name": "stdout",
     "output_type": "stream",
     "text": [
      "val Loss: 0.0002 Acc: 0.8103\n",
      "\n",
      "Epoch 98/99\n",
      "----------\n"
     ]
    },
    {
     "name": "stderr",
     "output_type": "stream",
     "text": [
      "Epoch 98: 100%|█████████████████████████████████| 50/50 [00:00<00:00, 83.43batch/s, accuracy=82.7, loss=0.00044]\n"
     ]
    },
    {
     "name": "stdout",
     "output_type": "stream",
     "text": [
      "train Loss: 0.0004 Acc: 0.8266\n"
     ]
    },
    {
     "name": "stderr",
     "output_type": "stream",
     "text": [
      "Epoch 98: 100%|████████████████████████████████| 20/20 [00:00<00:00, 60.78batch/s, accuracy=80.7, loss=0.000229]\n"
     ]
    },
    {
     "name": "stdout",
     "output_type": "stream",
     "text": [
      "val Loss: 0.0002 Acc: 0.8071\n",
      "\n",
      "Epoch 99/99\n",
      "----------\n"
     ]
    },
    {
     "name": "stderr",
     "output_type": "stream",
     "text": [
      "Epoch 99: 100%|████████████████████████████████| 50/50 [00:00<00:00, 83.17batch/s, accuracy=83.9, loss=0.000403]\n"
     ]
    },
    {
     "name": "stdout",
     "output_type": "stream",
     "text": [
      "train Loss: 0.0004 Acc: 0.8386\n"
     ]
    },
    {
     "name": "stderr",
     "output_type": "stream",
     "text": [
      "Epoch 99: 100%|████████████████████████████████| 20/20 [00:00<00:00, 63.03batch/s, accuracy=84.3, loss=0.000187]"
     ]
    },
    {
     "name": "stdout",
     "output_type": "stream",
     "text": [
      "val Loss: 0.0002 Acc: 0.8431\n",
      "\n",
      "Training complete in 1m 33s\n",
      "Best val Acc: 0.868515\n"
     ]
    },
    {
     "name": "stderr",
     "output_type": "stream",
     "text": [
      "\n"
     ]
    }
   ],
   "source": [
    "model = train_model(model, criterion, optimizer_ft, exp_lr_scheduler,\n",
    "                       num_epochs=80)"
   ]
  },
  {
   "cell_type": "code",
   "execution_count": 10,
   "id": "d5c38db0",
   "metadata": {},
   "outputs": [],
   "source": [
    "torch.save(model.state_dict(), './models/lstm.pt')"
   ]
  }
 ],
 "metadata": {
  "kernelspec": {
   "display_name": "Python 3",
   "language": "python",
   "name": "python3"
  },
  "language_info": {
   "codemirror_mode": {
    "name": "ipython",
    "version": 3
   },
   "file_extension": ".py",
   "mimetype": "text/x-python",
   "name": "python",
   "nbconvert_exporter": "python",
   "pygments_lexer": "ipython3",
   "version": "3.7.12"
  }
 },
 "nbformat": 4,
 "nbformat_minor": 5
}
