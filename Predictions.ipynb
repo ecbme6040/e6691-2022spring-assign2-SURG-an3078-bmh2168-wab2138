{
 "cells": [
  {
   "cell_type": "markdown",
   "id": "3b8ae78c",
   "metadata": {},
   "source": [
    "# Prediction from classifier"
   ]
  },
  {
   "cell_type": "code",
   "execution_count": 1,
   "id": "78d3149d",
   "metadata": {},
   "outputs": [],
   "source": [
    "from __future__ import print_function, division\n",
    "\n",
    "import torch\n",
    "import torch.nn as nn\n",
    "import torch.optim as optim\n",
    "from torch.optim import lr_scheduler\n",
    "import torch.backends.cudnn as cudnn\n",
    "import numpy as np\n",
    "import torchvision\n",
    "from torchvision import datasets, models, transforms\n",
    "import matplotlib.pyplot as plt\n",
    "import time\n",
    "import os\n",
    "import copy\n",
    "from torch.utils.data import DataLoader\n",
    "cudnn.benchmark = True\n",
    "plt.ion()   # interactive mode\n",
    "from utils.TestImagesDataset import TestImagesDataset\n",
    "from tqdm import tqdm\n",
    "CLASSES=14\n",
    "device = torch.device(\"cuda:0\" if torch.cuda.is_available() else  \"cpu\")"
   ]
  },
  {
   "cell_type": "code",
   "execution_count": 2,
   "id": "f6411156",
   "metadata": {},
   "outputs": [
    {
     "data": {
      "text/plain": [
       "184003"
      ]
     },
     "execution_count": 2,
     "metadata": {},
     "output_type": "execute_result"
    }
   ],
   "source": [
    "data_transforms = transforms.Compose([transforms.Normalize(mean=[0.485, 0.456, 0.406],std=[0.229, 0.224, 0.225])])\n",
    "\n",
    "test_set = TestImagesDataset(data_transforms)\n",
    "test_set.__len__()"
   ]
  },
  {
   "cell_type": "code",
   "execution_count": 3,
   "id": "a5b34431",
   "metadata": {},
   "outputs": [],
   "source": [
    "bs=256\n",
    "dataset_size = test_set.__len__()\n",
    "dataloader = DataLoader(dataset=test_set,\n",
    "                          batch_size=bs,\n",
    "                          shuffle=False,\n",
    "                          num_workers=4)"
   ]
  },
  {
   "cell_type": "code",
   "execution_count": 4,
   "id": "41393505",
   "metadata": {},
   "outputs": [
    {
     "name": "stderr",
     "output_type": "stream",
     "text": [
      "Predicting...: 100%|███████████████████████████████████████████████████████| 719/719 [05:42<00:00,  2.10batch/s]\n"
     ]
    }
   ],
   "source": [
    "EFFICIENTNET=True\n",
    "model_ft=None\n",
    "\n",
    "if EFFICIENTNET:\n",
    "    model_ft = models.efficientnet_b0(pretrained=True)\n",
    "    model_ft.classifier[1] = nn.Linear(in_features=1280, out_features=CLASSES)\n",
    "    model_ft = model_ft.to(device)\n",
    "    #reloading saved weights\n",
    "    model_ft.load_state_dict(torch.load('./models/efficientnet_b0.pt'))\n",
    "    model_ft.eval()\n",
    "else: # RESNET\n",
    "    model_ft = models.resnet18(pretrained=True)\n",
    "    num_ftrs = model_ft.fc.in_features\n",
    "    model_ft.fc = nn.Linear(num_ftrs, CLASSES)\n",
    "    model_ft = model_ft.to(device)\n",
    "\n",
    "    #reloading saved weights\n",
    "    model_ft.load_state_dict(torch.load('./models/resnet18.pt'))\n",
    "    model_ft.eval()\n",
    "\n",
    "\n",
    "\n",
    "with torch.no_grad():\n",
    "    n_correct = 0\n",
    "    n_samples = 0\n",
    "    predictions=[]\n",
    "    with tqdm(dataloader, unit=\"batch\") as tepoch: \n",
    "        for images in tepoch:\n",
    "            tepoch.set_description(\"Predicting...\")\n",
    "            images = images.to(device)\n",
    "            outputs = model_ft(images)\n",
    "            _, preds = torch.max(outputs, 1)\n",
    "           \n",
    "            predictions.append(preds)\n"
   ]
  },
  {
   "cell_type": "code",
   "execution_count": 5,
   "id": "26e56955",
   "metadata": {},
   "outputs": [],
   "source": [
    "all_preds=torch.cat(predictions, dim=0).cpu().detach().numpy()"
   ]
  },
  {
   "cell_type": "code",
   "execution_count": 7,
   "id": "efddff36",
   "metadata": {},
   "outputs": [],
   "source": [
    "paths=[]\n",
    "for i in range(71,126):\n",
    "    paths.append('RALIHR_surgeon01_fps01_'+('0000'+str(i))[-4:])\n",
    "\n",
    "for i in range(1,5):\n",
    "    paths.append('RALIHR_surgeon02_fps01_'+('0000'+str(i))[-4:])\n",
    "\n",
    "paths.append('RALIHR_surgeon03_fps01_0001')\n",
    "vid2len={}\n",
    "import os\n",
    "ROOT='./e6691-bucket-images/'\n",
    "index2data=[]\n",
    "for vid in paths:\n",
    "    vid2len[vid]=len(os.listdir(os.path.join(ROOT,vid)))\n",
    "    for i in range (len(os.listdir(os.path.join(ROOT,vid)))):\n",
    "        index2data.append(os.path.join(vid,'frame'+str(i)+'.jpg'))\n",
    "        "
   ]
  },
  {
   "cell_type": "code",
   "execution_count": 8,
   "id": "822ee5cb",
   "metadata": {},
   "outputs": [],
   "source": [
    "import pandas as pd\n",
    "df=pd.read_csv('./kaggle_template.csv')"
   ]
  },
  {
   "cell_type": "code",
   "execution_count": 9,
   "id": "424b733c",
   "metadata": {},
   "outputs": [
    {
     "name": "stdout",
     "output_type": "stream",
     "text": [
      "pad 1\n",
      "pad 1\n",
      "pad 1\n",
      "pad 1\n",
      "pad 1\n",
      "nopad 0\n",
      "pad 1\n",
      "pad 1\n",
      "pad 1\n",
      "pad 1\n",
      "pad 1\n",
      "pad 1\n",
      "pad 1\n",
      "pad 1\n",
      "pad 1\n",
      "pad 1\n",
      "pad 1\n",
      "pad 1\n",
      "pad 1\n",
      "pad 1\n",
      "pad 1\n",
      "pad 1\n",
      "pad 1\n",
      "pad 1\n",
      "pad 1\n",
      "pad 1\n",
      "pad 1\n",
      "pad 1\n",
      "pad 1\n",
      "pad 1\n",
      "pad 1\n",
      "pad 1\n",
      "nopad -261\n",
      "pad 1\n",
      "pad 1\n",
      "pad 1\n",
      "pad 1\n",
      "pad 1\n",
      "pad 1\n",
      "pad 1\n",
      "pad 1\n",
      "pad 1\n",
      "pad 1\n",
      "pad 1\n",
      "pad 1\n",
      "pad 1\n",
      "pad 1\n",
      "pad 1\n",
      "pad 1\n",
      "pad 1\n",
      "pad 1\n",
      "pad 1\n",
      "pad 1\n",
      "pad 1\n",
      "nopad -3871\n",
      "pad 1\n",
      "pad 1\n",
      "pad 1\n",
      "pad 1\n",
      "pad 1\n"
     ]
    },
    {
     "data": {
      "text/plain": [
       "60"
      ]
     },
     "execution_count": 9,
     "metadata": {},
     "output_type": "execute_result"
    }
   ],
   "source": [
    "predictions=all_preds\n",
    "correct_length_seq=[]\n",
    "for vid in vid2len:\n",
    "    seq=predictions[:vid2len[vid]].tolist()\n",
    "    predictions=predictions[vid2len[vid]:]\n",
    "    rows=vid[14:16]+'-'+vid[23:27]+'-'\n",
    "    seq_len=len(df[df['Id'].str.contains(rows)])\n",
    "    if seq_len>len(seq):\n",
    "        print('pad',seq_len-len(seq))\n",
    "        seq.extend([seq[-1]] * (seq_len-len(seq)))\n",
    "        \n",
    "    else:\n",
    "        print('nopad',seq_len-len(seq))\n",
    "        seq=seq[:seq_len]\n",
    "    correct_length_seq.append(seq)\n",
    "len(correct_length_seq)"
   ]
  },
  {
   "cell_type": "markdown",
   "id": "ef536f7a",
   "metadata": {},
   "source": [
    "### cleaning sequences"
   ]
  },
  {
   "cell_type": "code",
   "execution_count": 23,
   "id": "c51db3bf",
   "metadata": {},
   "outputs": [
    {
     "data": {
      "text/plain": [
       "LSTM(\n",
       "  (lstm): LSTM(14, 32, num_layers=2, bidirectional=True)\n",
       "  (fc2): Linear(in_features=64, out_features=14, bias=True)\n",
       ")"
      ]
     },
     "execution_count": 23,
     "metadata": {},
     "output_type": "execute_result"
    }
   ],
   "source": [
    "import torch.nn.functional as F\n",
    "class LSTM(nn.Module):\n",
    "    def __init__(self):\n",
    "        super(LSTM, self).__init__()        \n",
    "        self.lstm = nn.LSTM(input_size=14, hidden_size=32, num_layers=2,bidirectional=True)\n",
    "        #self.fc1 = nn.Linear(128, 32)\n",
    "        self.fc2 = nn.Linear(64, CLASSES)\n",
    "       \n",
    "    def forward(self, x_3d):\n",
    "        #x3d:  torch.Size([128, 32, 1, 80, 80])\n",
    "        hidden = None\n",
    "        toret  = []\n",
    "        \n",
    "        output, hidden = self.lstm(x_3d, hidden)\n",
    "       \n",
    "\n",
    "        x = F.relu(output)\n",
    "        x = self.fc2(x)\n",
    "        #print(\"x shape: \", x.shape)\n",
    "            \n",
    "            \n",
    "        return x\n",
    "model = LSTM()\n",
    "model.to(device)\n",
    "model.load_state_dict(torch.load('./models/lstm.pt'))\n",
    "model.eval()\n"
   ]
  },
  {
   "cell_type": "code",
   "execution_count": 34,
   "id": "37967804",
   "metadata": {},
   "outputs": [],
   "source": [
    "def clean(seq):\n",
    "    #onehot encode\n",
    "    seq=np.asarray(seq)\n",
    "    onehot = np.zeros((seq.size, 14)) \n",
    "    onehot[np.arange(seq.size),seq] = 1\n",
    "    #onehot=np.expand_dims(onehot, axis=0)\n",
    "    #print(onehot.shape)\n",
    "    #1,len,14\n",
    "    x=torch.Tensor.float(torch.from_numpy(onehot))\n",
    "    with torch.no_grad():\n",
    "        x = x.to(device)\n",
    "        outputs = model(x)\n",
    "        _, preds = torch.max(outputs, 1)\n",
    "        \n",
    "        return preds.cpu().detach().numpy().tolist()\n"
   ]
  },
  {
   "cell_type": "code",
   "execution_count": 41,
   "id": "b153bd96",
   "metadata": {},
   "outputs": [],
   "source": [
    "clean_seq=[]\n",
    "for seq in correct_length_seq:\n",
    "    cleaned=clean(seq)\n",
    "    clean_seq.append(cleaned)\n"
   ]
  },
  {
   "cell_type": "code",
   "execution_count": 42,
   "id": "8ac4b611",
   "metadata": {},
   "outputs": [],
   "source": [
    "df['Predicted'] =[item for sublist in clean_seq for item in sublist]"
   ]
  },
  {
   "cell_type": "code",
   "execution_count": 43,
   "id": "b128717b",
   "metadata": {},
   "outputs": [
    {
     "data": {
      "text/html": [
       "<div>\n",
       "<style scoped>\n",
       "    .dataframe tbody tr th:only-of-type {\n",
       "        vertical-align: middle;\n",
       "    }\n",
       "\n",
       "    .dataframe tbody tr th {\n",
       "        vertical-align: top;\n",
       "    }\n",
       "\n",
       "    .dataframe thead th {\n",
       "        text-align: right;\n",
       "    }\n",
       "</style>\n",
       "<table border=\"1\" class=\"dataframe\">\n",
       "  <thead>\n",
       "    <tr style=\"text-align: right;\">\n",
       "      <th></th>\n",
       "      <th>Id</th>\n",
       "      <th>Predicted</th>\n",
       "    </tr>\n",
       "  </thead>\n",
       "  <tbody>\n",
       "    <tr>\n",
       "      <th>1000</th>\n",
       "      <td>001-0071-01000</td>\n",
       "      <td>9</td>\n",
       "    </tr>\n",
       "    <tr>\n",
       "      <th>1001</th>\n",
       "      <td>001-0071-01001</td>\n",
       "      <td>9</td>\n",
       "    </tr>\n",
       "    <tr>\n",
       "      <th>1002</th>\n",
       "      <td>001-0071-01002</td>\n",
       "      <td>9</td>\n",
       "    </tr>\n",
       "    <tr>\n",
       "      <th>1003</th>\n",
       "      <td>001-0071-01003</td>\n",
       "      <td>9</td>\n",
       "    </tr>\n",
       "    <tr>\n",
       "      <th>1004</th>\n",
       "      <td>001-0071-01004</td>\n",
       "      <td>9</td>\n",
       "    </tr>\n",
       "    <tr>\n",
       "      <th>...</th>\n",
       "      <td>...</td>\n",
       "      <td>...</td>\n",
       "    </tr>\n",
       "    <tr>\n",
       "      <th>1317</th>\n",
       "      <td>001-0071-01317</td>\n",
       "      <td>13</td>\n",
       "    </tr>\n",
       "    <tr>\n",
       "      <th>1318</th>\n",
       "      <td>001-0071-01318</td>\n",
       "      <td>13</td>\n",
       "    </tr>\n",
       "    <tr>\n",
       "      <th>1319</th>\n",
       "      <td>001-0071-01319</td>\n",
       "      <td>13</td>\n",
       "    </tr>\n",
       "    <tr>\n",
       "      <th>1320</th>\n",
       "      <td>001-0071-01320</td>\n",
       "      <td>13</td>\n",
       "    </tr>\n",
       "    <tr>\n",
       "      <th>1321</th>\n",
       "      <td>001-0071-01321</td>\n",
       "      <td>13</td>\n",
       "    </tr>\n",
       "  </tbody>\n",
       "</table>\n",
       "<p>322 rows × 2 columns</p>\n",
       "</div>"
      ],
      "text/plain": [
       "                  Id  Predicted\n",
       "1000  001-0071-01000          9\n",
       "1001  001-0071-01001          9\n",
       "1002  001-0071-01002          9\n",
       "1003  001-0071-01003          9\n",
       "1004  001-0071-01004          9\n",
       "...              ...        ...\n",
       "1317  001-0071-01317         13\n",
       "1318  001-0071-01318         13\n",
       "1319  001-0071-01319         13\n",
       "1320  001-0071-01320         13\n",
       "1321  001-0071-01321         13\n",
       "\n",
       "[322 rows x 2 columns]"
      ]
     },
     "execution_count": 43,
     "metadata": {},
     "output_type": "execute_result"
    }
   ],
   "source": [
    "df[df['Id'].str.contains('001-0071-01')]"
   ]
  },
  {
   "cell_type": "code",
   "execution_count": 86,
   "id": "3212cb51",
   "metadata": {},
   "outputs": [],
   "source": [
    "all_labels=pd.read_csv('./all_labels_hernia.csv')"
   ]
  },
  {
   "cell_type": "code",
   "execution_count": 87,
   "id": "5ca2f51c",
   "metadata": {},
   "outputs": [
    {
     "data": {
      "text/html": [
       "<div>\n",
       "<style scoped>\n",
       "    .dataframe tbody tr th:only-of-type {\n",
       "        vertical-align: middle;\n",
       "    }\n",
       "\n",
       "    .dataframe tbody tr th {\n",
       "        vertical-align: top;\n",
       "    }\n",
       "\n",
       "    .dataframe thead th {\n",
       "        text-align: right;\n",
       "    }\n",
       "</style>\n",
       "<table border=\"1\" class=\"dataframe\">\n",
       "  <thead>\n",
       "    <tr style=\"text-align: right;\">\n",
       "      <th></th>\n",
       "      <th>id</th>\n",
       "      <th>labels</th>\n",
       "    </tr>\n",
       "  </thead>\n",
       "  <tbody>\n",
       "    <tr>\n",
       "      <th>0</th>\n",
       "      <td>0</td>\n",
       "      <td>adhesiolysis</td>\n",
       "    </tr>\n",
       "    <tr>\n",
       "      <th>1</th>\n",
       "      <td>1</td>\n",
       "      <td>blurry</td>\n",
       "    </tr>\n",
       "    <tr>\n",
       "      <th>2</th>\n",
       "      <td>2</td>\n",
       "      <td>catheter insertion</td>\n",
       "    </tr>\n",
       "    <tr>\n",
       "      <th>3</th>\n",
       "      <td>3</td>\n",
       "      <td>mesh placement</td>\n",
       "    </tr>\n",
       "    <tr>\n",
       "      <th>4</th>\n",
       "      <td>4</td>\n",
       "      <td>mesh positioning</td>\n",
       "    </tr>\n",
       "    <tr>\n",
       "      <th>5</th>\n",
       "      <td>5</td>\n",
       "      <td>out of body</td>\n",
       "    </tr>\n",
       "    <tr>\n",
       "      <th>6</th>\n",
       "      <td>6</td>\n",
       "      <td>peritoneal closure</td>\n",
       "    </tr>\n",
       "    <tr>\n",
       "      <th>7</th>\n",
       "      <td>7</td>\n",
       "      <td>peritoneal scoring</td>\n",
       "    </tr>\n",
       "    <tr>\n",
       "      <th>8</th>\n",
       "      <td>8</td>\n",
       "      <td>positioning suture</td>\n",
       "    </tr>\n",
       "    <tr>\n",
       "      <th>9</th>\n",
       "      <td>9</td>\n",
       "      <td>preperioneal dissection</td>\n",
       "    </tr>\n",
       "    <tr>\n",
       "      <th>10</th>\n",
       "      <td>10</td>\n",
       "      <td>primary hernia repair</td>\n",
       "    </tr>\n",
       "    <tr>\n",
       "      <th>11</th>\n",
       "      <td>11</td>\n",
       "      <td>reduction of hernia</td>\n",
       "    </tr>\n",
       "    <tr>\n",
       "      <th>12</th>\n",
       "      <td>12</td>\n",
       "      <td>stationary idle</td>\n",
       "    </tr>\n",
       "    <tr>\n",
       "      <th>13</th>\n",
       "      <td>13</td>\n",
       "      <td>transitionary idle</td>\n",
       "    </tr>\n",
       "  </tbody>\n",
       "</table>\n",
       "</div>"
      ],
      "text/plain": [
       "    id                   labels\n",
       "0    0             adhesiolysis\n",
       "1    1                   blurry\n",
       "2    2       catheter insertion\n",
       "3    3           mesh placement\n",
       "4    4         mesh positioning\n",
       "5    5              out of body\n",
       "6    6       peritoneal closure\n",
       "7    7       peritoneal scoring\n",
       "8    8       positioning suture\n",
       "9    9  preperioneal dissection\n",
       "10  10    primary hernia repair\n",
       "11  11      reduction of hernia\n",
       "12  12          stationary idle\n",
       "13  13       transitionary idle"
      ]
     },
     "execution_count": 87,
     "metadata": {},
     "output_type": "execute_result"
    }
   ],
   "source": [
    "all_labels"
   ]
  },
  {
   "cell_type": "code",
   "execution_count": 89,
   "id": "2d286d2f",
   "metadata": {},
   "outputs": [],
   "source": [
    "num2labels={0:\"adhesiolysis\",\n",
    "           1:'blurry',\n",
    "           2:\"catheter insertion\",\n",
    "           3:'mesh placement',\n",
    "           4:'mesh positioning',\n",
    "           5:\"out of body\",\n",
    "           6:\"peritoneal closure\",\n",
    "           7:\"peritoneal scoring\",\n",
    "           8:'positioning suture',\n",
    "           9:'preperioneal dissection',\n",
    "           10:\"primary hernia repair\",\n",
    "           11:\"reduction of hernia\",\n",
    "           12:\"stationary idle\",\n",
    "           13:\"transitionary idle\"}"
   ]
  },
  {
   "cell_type": "code",
   "execution_count": 92,
   "id": "c8b9eda0",
   "metadata": {},
   "outputs": [],
   "source": [
    "df['Predicted'] = df['Predicted'].map(num2labels)"
   ]
  },
  {
   "cell_type": "code",
   "execution_count": 93,
   "id": "ce69b1e7",
   "metadata": {},
   "outputs": [
    {
     "data": {
      "text/html": [
       "<div>\n",
       "<style scoped>\n",
       "    .dataframe tbody tr th:only-of-type {\n",
       "        vertical-align: middle;\n",
       "    }\n",
       "\n",
       "    .dataframe tbody tr th {\n",
       "        vertical-align: top;\n",
       "    }\n",
       "\n",
       "    .dataframe thead th {\n",
       "        text-align: right;\n",
       "    }\n",
       "</style>\n",
       "<table border=\"1\" class=\"dataframe\">\n",
       "  <thead>\n",
       "    <tr style=\"text-align: right;\">\n",
       "      <th></th>\n",
       "      <th>Id</th>\n",
       "      <th>Predicted</th>\n",
       "    </tr>\n",
       "  </thead>\n",
       "  <tbody>\n",
       "    <tr>\n",
       "      <th>0</th>\n",
       "      <td>001-0071-00000</td>\n",
       "      <td>transitionary idle</td>\n",
       "    </tr>\n",
       "    <tr>\n",
       "      <th>1</th>\n",
       "      <td>001-0071-00001</td>\n",
       "      <td>transitionary idle</td>\n",
       "    </tr>\n",
       "    <tr>\n",
       "      <th>2</th>\n",
       "      <td>001-0071-00002</td>\n",
       "      <td>transitionary idle</td>\n",
       "    </tr>\n",
       "    <tr>\n",
       "      <th>3</th>\n",
       "      <td>001-0071-00003</td>\n",
       "      <td>transitionary idle</td>\n",
       "    </tr>\n",
       "    <tr>\n",
       "      <th>4</th>\n",
       "      <td>001-0071-00004</td>\n",
       "      <td>transitionary idle</td>\n",
       "    </tr>\n",
       "    <tr>\n",
       "      <th>...</th>\n",
       "      <td>...</td>\n",
       "      <td>...</td>\n",
       "    </tr>\n",
       "    <tr>\n",
       "      <th>179923</th>\n",
       "      <td>003-0001-05902</td>\n",
       "      <td>transitionary idle</td>\n",
       "    </tr>\n",
       "    <tr>\n",
       "      <th>179924</th>\n",
       "      <td>003-0001-05903</td>\n",
       "      <td>transitionary idle</td>\n",
       "    </tr>\n",
       "    <tr>\n",
       "      <th>179925</th>\n",
       "      <td>003-0001-05904</td>\n",
       "      <td>transitionary idle</td>\n",
       "    </tr>\n",
       "    <tr>\n",
       "      <th>179926</th>\n",
       "      <td>003-0001-05905</td>\n",
       "      <td>transitionary idle</td>\n",
       "    </tr>\n",
       "    <tr>\n",
       "      <th>179927</th>\n",
       "      <td>003-0001-05906</td>\n",
       "      <td>transitionary idle</td>\n",
       "    </tr>\n",
       "  </tbody>\n",
       "</table>\n",
       "<p>179928 rows × 2 columns</p>\n",
       "</div>"
      ],
      "text/plain": [
       "                    Id           Predicted\n",
       "0       001-0071-00000  transitionary idle\n",
       "1       001-0071-00001  transitionary idle\n",
       "2       001-0071-00002  transitionary idle\n",
       "3       001-0071-00003  transitionary idle\n",
       "4       001-0071-00004  transitionary idle\n",
       "...                ...                 ...\n",
       "179923  003-0001-05902  transitionary idle\n",
       "179924  003-0001-05903  transitionary idle\n",
       "179925  003-0001-05904  transitionary idle\n",
       "179926  003-0001-05905  transitionary idle\n",
       "179927  003-0001-05906  transitionary idle\n",
       "\n",
       "[179928 rows x 2 columns]"
      ]
     },
     "execution_count": 93,
     "metadata": {},
     "output_type": "execute_result"
    }
   ],
   "source": [
    "df"
   ]
  },
  {
   "cell_type": "code",
   "execution_count": 94,
   "id": "f322e5e9",
   "metadata": {},
   "outputs": [],
   "source": [
    "df.to_csv('./my_kaggle_preds',index=False)"
   ]
  },
  {
   "cell_type": "code",
   "execution_count": 12,
   "id": "ba63b16c",
   "metadata": {},
   "outputs": [],
   "source": []
  },
  {
   "cell_type": "code",
   "execution_count": 23,
   "id": "fe52d92e",
   "metadata": {},
   "outputs": [
    {
     "data": {
      "text/plain": [
       "1322"
      ]
     },
     "execution_count": 23,
     "metadata": {},
     "output_type": "execute_result"
    }
   ],
   "source": [
    "len(df[df['Id'].str.contains('001-0071-')])"
   ]
  },
  {
   "cell_type": "code",
   "execution_count": 27,
   "id": "60c40329",
   "metadata": {},
   "outputs": [
    {
     "data": {
      "text/plain": [
       "23"
      ]
     },
     "execution_count": 27,
     "metadata": {},
     "output_type": "execute_result"
    }
   ],
   "source": [
    "len('RALIHR_surgeon01_fps01_')"
   ]
  },
  {
   "cell_type": "code",
   "execution_count": 32,
   "id": "b7d9537d",
   "metadata": {},
   "outputs": [
    {
     "data": {
      "text/plain": [
       "184003"
      ]
     },
     "execution_count": 32,
     "metadata": {},
     "output_type": "execute_result"
    }
   ],
   "source": [
    "lenght"
   ]
  },
  {
   "cell_type": "code",
   "execution_count": 33,
   "id": "8fef4cd8",
   "metadata": {},
   "outputs": [
    {
     "name": "stdout",
     "output_type": "stream",
     "text": [
      "1\n",
      "1\n",
      "1\n",
      "1\n",
      "1\n",
      "0\n",
      "1\n",
      "1\n",
      "1\n",
      "1\n",
      "1\n",
      "1\n",
      "1\n",
      "1\n",
      "1\n",
      "1\n",
      "1\n",
      "1\n",
      "1\n",
      "1\n",
      "1\n",
      "1\n",
      "1\n",
      "1\n",
      "1\n",
      "1\n",
      "1\n",
      "1\n",
      "1\n",
      "1\n",
      "1\n",
      "1\n",
      "-261\n",
      "1\n",
      "1\n",
      "1\n",
      "1\n",
      "1\n",
      "1\n",
      "1\n",
      "1\n",
      "1\n",
      "1\n",
      "1\n",
      "1\n",
      "1\n",
      "1\n",
      "1\n",
      "1\n",
      "1\n",
      "1\n",
      "1\n",
      "1\n",
      "1\n",
      "-3871\n",
      "1\n",
      "1\n",
      "1\n",
      "1\n",
      "1\n"
     ]
    }
   ],
   "source": [
    "\n",
    "for vid in vid2len:\n",
    "    l1=vid2len[vid]\n",
    "    lenght+=l1\n",
    "    rows=vid[14:16]+'-'+vid[23:27]+'-'\n",
    "    l2=len(df[df['Id'].str.contains(rows)])\n",
    "    print(l2-l1)\n"
   ]
  }
 ],
 "metadata": {
  "kernelspec": {
   "display_name": "Python 3",
   "language": "python",
   "name": "python3"
  },
  "language_info": {
   "codemirror_mode": {
    "name": "ipython",
    "version": 3
   },
   "file_extension": ".py",
   "mimetype": "text/x-python",
   "name": "python",
   "nbconvert_exporter": "python",
   "pygments_lexer": "ipython3",
   "version": "3.7.12"
  }
 },
 "nbformat": 4,
 "nbformat_minor": 5
}
