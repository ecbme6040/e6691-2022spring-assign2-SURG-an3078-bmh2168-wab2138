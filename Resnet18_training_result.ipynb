{
 "cells": [
  {
   "cell_type": "code",
   "execution_count": 1,
   "id": "2381b70f",
   "metadata": {},
   "outputs": [],
   "source": [
    "from __future__ import print_function, division\n",
    "\n",
    "import torch\n",
    "import torch.nn as nn\n",
    "import torch.optim as optim\n",
    "from torch.optim import lr_scheduler\n",
    "import torch.backends.cudnn as cudnn\n",
    "import numpy as np\n",
    "import torchvision\n",
    "from torchvision import datasets, models, transforms\n",
    "import matplotlib.pyplot as plt\n",
    "import time\n",
    "import os\n",
    "import copy\n",
    "from torch.utils.data import DataLoader\n",
    "cudnn.benchmark = True\n",
    "plt.ion()   # interactive mode\n",
    "from utils.ImagesDataset import ImagesDataset\n",
    "from tqdm import tqdm\n",
    "CLASSES=14"
   ]
  },
  {
   "cell_type": "markdown",
   "id": "c0ee6811",
   "metadata": {},
   "source": [
    "# Dataset"
   ]
  },
  {
   "cell_type": "code",
   "execution_count": 3,
   "id": "b8f8d867",
   "metadata": {},
   "outputs": [
    {
     "data": {
      "text/plain": [
       "66829"
      ]
     },
     "execution_count": 3,
     "metadata": {},
     "output_type": "execute_result"
    }
   ],
   "source": [
    "data_transforms = {\n",
    "    'train': transforms.Compose([\n",
    "        transforms.RandomHorizontalFlip()\n",
    "    ]),\n",
    "    'val': transforms.Compose([]),\n",
    "}\n",
    "train_set = ImagesDataset(data_transforms['train'])\n",
    "val_set = ImagesDataset(train=False)\n",
    "val_set.__len__()"
   ]
  },
  {
   "cell_type": "code",
   "execution_count": 5,
   "id": "8564a6d4",
   "metadata": {},
   "outputs": [],
   "source": [
    "device = torch.device(\"cuda:0\" if torch.cuda.is_available() else  \"cpu\")"
   ]
  },
  {
   "cell_type": "markdown",
   "id": "9925c12f",
   "metadata": {},
   "source": [
    "### dataloader"
   ]
  },
  {
   "cell_type": "code",
   "execution_count": 7,
   "id": "6738d29f",
   "metadata": {},
   "outputs": [],
   "source": [
    "bs=128\n",
    "dataset_sizes = {'train':train_set.__len__(),'val': val_set.__len__()}\n",
    "train_loader = DataLoader(dataset=train_set,\n",
    "                          batch_size=bs,\n",
    "                          shuffle=True,\n",
    "                          num_workers=4)\n",
    "val_loader = DataLoader(dataset=val_set,\n",
    "                          batch_size=bs,\n",
    "                          shuffle=True,\n",
    "                          num_workers=4)\n",
    "dataloaders={'train':train_loader,'val':val_loader}"
   ]
  },
  {
   "cell_type": "markdown",
   "id": "456ab646",
   "metadata": {},
   "source": [
    "# Training"
   ]
  },
  {
   "cell_type": "code",
   "execution_count": 8,
   "id": "9b0ae379",
   "metadata": {},
   "outputs": [],
   "source": [
    "def train_model(model, criterion, optimizer, scheduler, num_epochs=25):\n",
    "    since = time.time()\n",
    "    hist=[]\n",
    "    best_model_wts = copy.deepcopy(model.state_dict())\n",
    "    best_acc = 0.0\n",
    "   \n",
    "    for epoch in range(num_epochs):\n",
    "        print(f'Epoch {epoch}/{num_epochs - 1}')\n",
    "        print('-' * 10)\n",
    "\n",
    "        # Each epoch has a training and validation phase\n",
    "        for phase in ['train', 'val']:\n",
    "            if phase == 'train':\n",
    "                model.train()  # Set model to training mode\n",
    "            else:\n",
    "                model.eval()   # Set model to evaluate mode\n",
    "\n",
    "            running_loss = 0.0\n",
    "            running_corrects = 0\n",
    "\n",
    "            # Iterate over data.\n",
    "            with tqdm(dataloaders[phase], unit=\"batch\") as tepoch:\n",
    "                batches=0\n",
    "                for inputs, labels in tepoch:\n",
    "                    tepoch.set_description(f\"Epoch {epoch}\")\n",
    "                    inputs = inputs.to(device)\n",
    "                    labels = labels.to(device)\n",
    "\n",
    "                    # zero the parameter gradients\n",
    "                    optimizer.zero_grad()\n",
    "                    \n",
    "                    # forward\n",
    "                    # track history if only in train\n",
    "                    with torch.set_grad_enabled(phase == 'train'):\n",
    "                        outputs = model(inputs)\n",
    "                        _, preds = torch.max(outputs, 1)\n",
    "                        #print('out',outputs)\n",
    "                        #print('labels',labels)\n",
    "                        loss = criterion(outputs, labels)\n",
    "\n",
    "                        # backward + optimize only if in training phase\n",
    "                        if phase == 'train':\n",
    "                            loss.backward()\n",
    "                            optimizer.step()\n",
    "\n",
    "                    # statistics\n",
    "                    running_loss += loss.item() * inputs.size(0)\n",
    "                    running_corrects += torch.sum(preds == labels.data)\n",
    "                    batches+=1                      \n",
    "                    tepoch.set_postfix(loss=running_loss/(batches*bs), accuracy=100. * running_corrects.item()/(batches*bs))\n",
    "                    hist.append([running_loss/(batches*bs),100. * running_corrects.item()/(batches*bs)])\n",
    "            if phase == 'train':\n",
    "                scheduler.step()\n",
    "\n",
    "            epoch_loss = running_loss / dataset_sizes[phase]\n",
    "            epoch_acc = running_corrects.double() / dataset_sizes[phase]\n",
    "\n",
    "            print(f'{phase} Loss: {epoch_loss:.4f} Acc: {epoch_acc:.4f}')\n",
    "\n",
    "            # deep copy the model\n",
    "            if phase == 'val' and epoch_acc > best_acc:\n",
    "                best_acc = epoch_acc\n",
    "                best_model_wts = copy.deepcopy(model.state_dict())\n",
    "\n",
    "        print()\n",
    "\n",
    "    time_elapsed = time.time() - since\n",
    "    print(f'Training complete in {time_elapsed // 60:.0f}m {time_elapsed % 60:.0f}s')\n",
    "    print(f'Best val Acc: {best_acc:4f}')\n",
    "\n",
    "    # load best model weights\n",
    "    model.load_state_dict(best_model_wts)\n",
    "    return model,hist"
   ]
  },
  {
   "cell_type": "markdown",
   "id": "51d47889",
   "metadata": {},
   "source": [
    "### setup"
   ]
  },
  {
   "cell_type": "code",
   "execution_count": 9,
   "id": "a5f78ec4",
   "metadata": {},
   "outputs": [],
   "source": [
    "model_ft = models.resnet18(pretrained=True)\n",
    "num_ftrs = model_ft.fc.in_features\n",
    "# Here the size of each output sample is set to 2.\n",
    "# Alternatively, it can be generalized to nn.Linear(num_ftrs, len(class_names)).\n",
    "model_ft.fc = nn.Linear(num_ftrs, CLASSES)\n",
    "\n",
    "model_ft = model_ft.to(device)\n",
    "\n",
    "criterion = nn.CrossEntropyLoss()\n",
    "\n",
    "# Observe that all parameters are being optimized\n",
    "optimizer_ft = optim.SGD(model_ft.parameters(), lr=0.001, momentum=0.9)\n",
    "\n",
    "# Decay LR by a factor of 0.1 every 2 epochs\n",
    "exp_lr_scheduler = lr_scheduler.StepLR(optimizer_ft, step_size=2, gamma=0.1)"
   ]
  },
  {
   "cell_type": "code",
   "execution_count": null,
   "id": "40616b26",
   "metadata": {},
   "outputs": [
    {
     "name": "stdout",
     "output_type": "stream",
     "text": [
      "Epoch 0/3\n",
      "----------\n"
     ]
    },
    {
     "name": "stderr",
     "output_type": "stream",
     "text": [
      "Epoch 0:  25%|████████▎                        | 291/1159 [01:51<05:23,  2.68batch/s, accuracy=73.2, loss=0.857]"
     ]
    }
   ],
   "source": [
    "model_ft,hist = train_model(model_ft, criterion, optimizer_ft, exp_lr_scheduler,\n",
    "                       num_epochs=4)"
   ]
  },
  {
   "cell_type": "code",
   "execution_count": null,
   "id": "bdca4398",
   "metadata": {},
   "outputs": [],
   "source": [
    "torch.save(model_ft.state_dict(), './models/resnet18.pt')\n",
    "import pickle\n",
    "with open('./models/resnet18_hist.pkl', 'wb') as f:\n",
    "    pickle.dump(hist, f)"
   ]
  },
  {
   "cell_type": "markdown",
   "id": "f475359e",
   "metadata": {},
   "source": [
    "### Resnet101"
   ]
  },
  {
   "cell_type": "code",
   "execution_count": null,
   "id": "ff29ff75",
   "metadata": {},
   "outputs": [],
   "source": [
    "model_ft = models.resnet101(pretrained=True)\n",
    "num_ftrs = model_ft.fc.in_features\n",
    "# Here the size of each output sample is set to 2.\n",
    "# Alternatively, it can be generalized to nn.Linear(num_ftrs, len(class_names)).\n",
    "model_ft.fc = nn.Linear(num_ftrs, CLASSES)\n",
    "\n",
    "model_ft = model_ft.to(device)\n",
    "\n",
    "criterion = nn.CrossEntropyLoss()\n",
    "\n",
    "# Observe that all parameters are being optimized\n",
    "optimizer_ft = optim.SGD(model_ft.parameters(), lr=0.001, momentum=0.9)\n",
    "\n",
    "# Decay LR by a factor of 0.1 every 2 epochs\n",
    "exp_lr_scheduler = lr_scheduler.StepLR(optimizer_ft, step_size=5, gamma=0.1)\n",
    "\n",
    "model_ft = train_model(model_ft, criterion, optimizer_ft, exp_lr_scheduler,\n",
    "                       num_epochs=12)\n",
    "torch.save(model_ft.state_dict(), './models/resnet101.pt')"
   ]
  },
  {
   "cell_type": "markdown",
   "id": "8be2a106",
   "metadata": {},
   "source": [
    "# Evaluation"
   ]
  },
  {
   "cell_type": "code",
   "execution_count": null,
   "id": "27442ae6",
   "metadata": {},
   "outputs": [],
   "source": []
  },
  {
   "cell_type": "code",
   "execution_count": null,
   "id": "385f6ed4",
   "metadata": {},
   "outputs": [],
   "source": [
    "#resnet model\n",
    "model_ft = models.resnet18(pretrained=True)\n",
    "num_ftrs = model_ft.fc.in_features\n",
    "model_ft.fc = nn.Linear(num_ftrs, CLASSES)\n",
    "model_ft = model_ft.to(device)\n",
    "\n",
    "\n",
    "#reloading saved weights\n",
    "model_ft.load_state_dict(torch.load('./models/resnet18.pt'))\n",
    "model_ft.eval()\n",
    "\n",
    "\n",
    "\n",
    "#evaluation\n",
    "with torch.no_grad():\n",
    "    n_correct = 0\n",
    "    n_samples = 0\n",
    "    with tqdm(dataloaders['val'], unit=\"batch\") as tepoch:\n",
    "        for images, labels in tepoch:\n",
    "            tepoch.set_description('progress lolol')\n",
    "            images = images.to(device)\n",
    "            labels = labels.to(device)\n",
    "            outputs = model_ft(images)\n",
    "            # max returns (value ,index)\n",
    "            _, predicted = torch.max(outputs.data, 1)\n",
    "            n_samples += labels.size(0)\n",
    "            n_correct += (predicted == labels).sum().item()\n",
    "\n",
    "        acc = 100.0 * n_correct / n_samples\n",
    "        print(f'Validation accuracy : {acc} %')"
   ]
  },
  {
   "cell_type": "markdown",
   "id": "71b8eecb",
   "metadata": {},
   "source": [
    "#Let there be 9 samples and 1 sample in class 0 and 1 respectively\n",
    "class_counts = [9.0, 1.0]\n",
    "num_samples = sum(class_counts)\n",
    "labels = [0, 0,..., 0, 1] #corresponding labels of samples\n",
    "\n",
    "class_weights = [num_samples/class_counts[i] for i in range(len(class_counts))]\n",
    "weights = [class_weights[labels[i]] for i in range(int(num_samples))]\n",
    "sampler = WeightedRandomSampler(torch.DoubleTensor(weights), int(num_samples))"
   ]
  }
 ],
 "metadata": {
  "kernelspec": {
   "display_name": "Python 3",
   "language": "python",
   "name": "python3"
  },
  "language_info": {
   "codemirror_mode": {
    "name": "ipython",
    "version": 3
   },
   "file_extension": ".py",
   "mimetype": "text/x-python",
   "name": "python",
   "nbconvert_exporter": "python",
   "pygments_lexer": "ipython3",
   "version": "3.7.12"
  }
 },
 "nbformat": 4,
 "nbformat_minor": 5
}
