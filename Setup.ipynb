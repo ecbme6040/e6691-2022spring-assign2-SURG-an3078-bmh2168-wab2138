{
 "cells": [
  {
   "cell_type": "markdown",
   "id": "796a03c2",
   "metadata": {},
   "source": [
    "#### To create the gcp instance, this link is still relevant https://ecbme4040.github.io/2021_fall/EnvSetup/gcp.html\n",
    "#### just use the pytorch deep learning  boot drive by gcp\n",
    "#### T4 gpus may be more available in the `south america zone\n",
    "#### other param: drive size to at least 100, allow http, https traffic, and access to all apis"
   ]
  },
  {
   "cell_type": "markdown",
   "id": "55cfff91",
   "metadata": {},
   "source": [
    "## 1 clone git repo, change working directory"
   ]
  },
  {
   "cell_type": "markdown",
   "id": "3f0d9f1b",
   "metadata": {},
   "source": [
    "## 2 copy image dataset, and model weights"
   ]
  },
  {
   "cell_type": "code",
   "execution_count": null,
   "id": "233ef9d0",
   "metadata": {},
   "outputs": [],
   "source": [
    "!gsutil cp -r  gs://e6691-bucket-models/models ./\n",
    "!gsutil cp -r  gs://e6691-bucket-images ./"
   ]
  },
  {
   "cell_type": "markdown",
   "id": "b4819fc3",
   "metadata": {},
   "source": [
    "## 3 unzip images, it tkaes a couple of minutes"
   ]
  },
  {
   "cell_type": "code",
   "execution_count": null,
   "id": "d622bea5",
   "metadata": {},
   "outputs": [],
   "source": [
    "!cd e6691-bucket-images\n",
    "!unzip -qq images.zip"
   ]
  },
  {
   "cell_type": "markdown",
   "id": "53e75ac3",
   "metadata": {},
   "source": [
    "## To work with video data, copy from the video bucket"
   ]
  },
  {
   "cell_type": "code",
   "execution_count": null,
   "id": "99ecf364",
   "metadata": {},
   "outputs": [],
   "source": [
    "!gsutil cp -r  gs://e6691-bucket-videos ./ #working dir is project dir"
   ]
  }
 ],
 "metadata": {
  "kernelspec": {
   "display_name": "Python 3",
   "language": "python",
   "name": "python3"
  },
  "language_info": {
   "codemirror_mode": {
    "name": "ipython",
    "version": 3
   },
   "file_extension": ".py",
   "mimetype": "text/x-python",
   "name": "python",
   "nbconvert_exporter": "python",
   "pygments_lexer": "ipython3",
   "version": "3.7.12"
  }
 },
 "nbformat": 4,
 "nbformat_minor": 5
}
