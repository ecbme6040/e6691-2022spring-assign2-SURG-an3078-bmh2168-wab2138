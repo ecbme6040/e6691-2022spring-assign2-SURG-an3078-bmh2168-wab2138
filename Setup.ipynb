{
 "cells": [
  {
   "cell_type": "markdown",
   "id": "c4412c0d",
   "metadata": {},
   "source": [
    "#### To create the gcp instance, this link is still relevant https://ecbme4040.github.io/2021_fall/EnvSetup/gcp.html\n",
    "#### just use the pytorch deep learning  boot drive by gcp\n",
    "#### T4 gpus may be more available in the `south america zone\n",
    "#### other param: drive size to at least 100, allow http, https traffic, and access to all apis"
   ]
  },
  {
   "cell_type": "markdown",
   "id": "2ca0c400",
   "metadata": {},
   "source": [
    "## 1 clone git repo, change working directory"
   ]
  },
  {
   "cell_type": "markdown",
   "id": "0bdb1d3d",
   "metadata": {},
   "source": [
    "## 2 copy image dataset, and model weights"
   ]
  },
  {
   "cell_type": "code",
   "execution_count": null,
   "id": "dd6c3b91",
   "metadata": {},
   "outputs": [],
   "source": [
    "!gsutil cp -r  gs://e6691-bucket-models/models ./\n",
    "!gsutil cp -r  gs://e6691-bucket-images ./"
   ]
  },
  {
   "cell_type": "markdown",
   "id": "71f9c2d5",
   "metadata": {},
   "source": [
    "## 3 unzip images, it tkaes a couple of minutes"
   ]
  },
  {
   "cell_type": "code",
   "execution_count": null,
   "id": "65e5ad31",
   "metadata": {},
   "outputs": [],
   "source": [
    "!cd e6691-bucket-images\n",
    "!unzip -qq images.zip"
   ]
  },
  {
   "cell_type": "markdown",
   "id": "28b8f715",
   "metadata": {},
   "source": [
    "## To work with video data, copy from the video bucket"
   ]
  },
  {
   "cell_type": "code",
   "execution_count": null,
   "id": "bc4175c7",
   "metadata": {},
   "outputs": [],
   "source": [
    "!gsutil cp -r  gs://e6691-bucket-videos ./ #working dir is project dir"
   ]
  }
 ],
 "metadata": {
  "kernelspec": {
   "display_name": "Python 3",
   "language": "python",
   "name": "python3"
  },
  "language_info": {
   "codemirror_mode": {
    "name": "ipython",
    "version": 3
   },
   "file_extension": ".py",
   "mimetype": "text/x-python",
   "name": "python",
   "nbconvert_exporter": "python",
   "pygments_lexer": "ipython3",
   "version": "3.7.12"
  }
 },
 "nbformat": 4,
 "nbformat_minor": 5
}
